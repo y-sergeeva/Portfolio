{
 "cells": [
  {
   "cell_type": "markdown",
   "metadata": {},
   "source": [
    "# Проект для курса Я.Практикум, спринт \"Принятие решений в бизнесе\".  Выбор и тестирование гипотезы с целью увеличения выручки интернет-магазина.\n",
    "\n",
    "\n",
    "## Цель проекта: \n",
    "\n",
    "### Выбрать и протестировать одну из девяти сформированных совместно с отделом маркетинга гипотез по увеличению выручки интернет-магазина.\n",
    "\n",
    "\n",
    "## Данные: \n",
    "\n",
    "***Файл /datasets/hypothesis.csv*** - перечень гипотез и их оценка по нескольким параметрам:\n",
    "\n",
    "**Hypothesis** — краткое описание гипотезы;\n",
    "\n",
    "**Reach** — охват пользователей по 10-балльной шкале;\n",
    "\n",
    "**Impact** — влияние на пользователей по 10-балльной шкале;\n",
    "\n",
    "**Confidence** — уверенность в гипотезе по 10-балльной шкале;\n",
    "\n",
    "**Efforts** — затраты ресурсов на проверку гипотезы по 10-балльной шкале. Чем больше значение Efforts, тем дороже проверка гипотезы.\n",
    "\n",
    "***Файл /datasets/orders.csv*** - данные о заказах пользователей\n",
    "\n",
    "**transactionId** — идентификатор заказа;\n",
    "\n",
    "**visitorId** — идентификатор пользователя, совершившего заказ;\n",
    "\n",
    "**date** — дата, когда был совершён заказ;\n",
    "\n",
    "**revenue** — выручка заказа;\n",
    "\n",
    "**group** — группа A/B-теста, в которую попал заказ.\n",
    "\n",
    "***Файл /datasets/visitors.csv*** - данные о посещениях интернет-магазина пользователями\n",
    "\n",
    "**date** — дата;\n",
    "\n",
    "**group** — группа A/B-теста;\n",
    "\n",
    "**visitors** — количество пользователей в указанную дату в указанной группе A/B-теста\n",
    "\n",
    "\n",
    "\n",
    "## План исследования:\n",
    "\n",
    "1. [Загрузка данных](#load) \n",
    "2. [Предобработка данных](#preprocessing)\n",
    "3. [Приоритизация гипотез](#prioritization) \n",
    "4. [Анализ A/B-теста](#analysis) \n",
    "5. [Решение по результатам теста и общие выводы](#decision) "
   ]
  },
  {
   "cell_type": "markdown",
   "metadata": {},
   "source": [
    "### 1. Загрузка данных <a id='load'></a>"
   ]
  },
  {
   "cell_type": "code",
   "execution_count": 1,
   "metadata": {},
   "outputs": [],
   "source": [
    "#Импортируем нужные библиотеки\n",
    "import pandas as pd\n",
    "from scipy import stats as st\n",
    "import matplotlib.pyplot as plt\n",
    "import numpy as np\n",
    "import datetime as dt\n",
    "import scipy.stats as stats\n",
    "import math as mth\n",
    "\n",
    "pd.set_option('display.max_columns', None)"
   ]
  },
  {
   "cell_type": "code",
   "execution_count": 2,
   "metadata": {},
   "outputs": [],
   "source": [
    "#Открываем файлы\n",
    "try:\n",
    "    hypothesis = pd.read_csv('/datasets/hypothesis.csv')\n",
    "    orders = pd.read_csv('/datasets/orders.csv')\n",
    "    visitors = pd.read_csv('/datasets/visitors.csv')\n",
    "\n",
    "except:\n",
    "    hypothesis = pd.read_csv('hypothesis.csv')\n",
    "    orders = pd.read_csv('orders.csv')\n",
    "    visitors = pd.read_csv('visitors.csv')"
   ]
  },
  {
   "cell_type": "code",
   "execution_count": 3,
   "metadata": {},
   "outputs": [
    {
     "data": {
      "text/plain": [
       "'Информация о гипотезах'"
      ]
     },
     "metadata": {},
     "output_type": "display_data"
    },
    {
     "name": "stdout",
     "output_type": "stream",
     "text": [
      "<class 'pandas.core.frame.DataFrame'>\n",
      "RangeIndex: 9 entries, 0 to 8\n",
      "Data columns (total 5 columns):\n",
      " #   Column      Non-Null Count  Dtype \n",
      "---  ------      --------------  ----- \n",
      " 0   Hypothesis  9 non-null      object\n",
      " 1   Reach       9 non-null      int64 \n",
      " 2   Impact      9 non-null      int64 \n",
      " 3   Confidence  9 non-null      int64 \n",
      " 4   Efforts     9 non-null      int64 \n",
      "dtypes: int64(4), object(1)\n",
      "memory usage: 488.0+ bytes\n"
     ]
    },
    {
     "data": {
      "text/plain": [
       "None"
      ]
     },
     "metadata": {},
     "output_type": "display_data"
    },
    {
     "data": {
      "text/html": [
       "<div>\n",
       "<style scoped>\n",
       "    .dataframe tbody tr th:only-of-type {\n",
       "        vertical-align: middle;\n",
       "    }\n",
       "\n",
       "    .dataframe tbody tr th {\n",
       "        vertical-align: top;\n",
       "    }\n",
       "\n",
       "    .dataframe thead th {\n",
       "        text-align: right;\n",
       "    }\n",
       "</style>\n",
       "<table border=\"1\" class=\"dataframe\">\n",
       "  <thead>\n",
       "    <tr style=\"text-align: right;\">\n",
       "      <th></th>\n",
       "      <th>Reach</th>\n",
       "      <th>Impact</th>\n",
       "      <th>Confidence</th>\n",
       "      <th>Efforts</th>\n",
       "    </tr>\n",
       "  </thead>\n",
       "  <tbody>\n",
       "    <tr>\n",
       "      <th>count</th>\n",
       "      <td>9.000000</td>\n",
       "      <td>9.000000</td>\n",
       "      <td>9.000000</td>\n",
       "      <td>9.000000</td>\n",
       "    </tr>\n",
       "    <tr>\n",
       "      <th>mean</th>\n",
       "      <td>4.777778</td>\n",
       "      <td>4.777778</td>\n",
       "      <td>5.555556</td>\n",
       "      <td>4.888889</td>\n",
       "    </tr>\n",
       "    <tr>\n",
       "      <th>std</th>\n",
       "      <td>3.153481</td>\n",
       "      <td>3.192874</td>\n",
       "      <td>3.045944</td>\n",
       "      <td>2.803767</td>\n",
       "    </tr>\n",
       "    <tr>\n",
       "      <th>min</th>\n",
       "      <td>1.000000</td>\n",
       "      <td>1.000000</td>\n",
       "      <td>1.000000</td>\n",
       "      <td>1.000000</td>\n",
       "    </tr>\n",
       "    <tr>\n",
       "      <th>25%</th>\n",
       "      <td>3.000000</td>\n",
       "      <td>3.000000</td>\n",
       "      <td>3.000000</td>\n",
       "      <td>3.000000</td>\n",
       "    </tr>\n",
       "    <tr>\n",
       "      <th>50%</th>\n",
       "      <td>3.000000</td>\n",
       "      <td>3.000000</td>\n",
       "      <td>7.000000</td>\n",
       "      <td>5.000000</td>\n",
       "    </tr>\n",
       "    <tr>\n",
       "      <th>75%</th>\n",
       "      <td>8.000000</td>\n",
       "      <td>7.000000</td>\n",
       "      <td>8.000000</td>\n",
       "      <td>6.000000</td>\n",
       "    </tr>\n",
       "    <tr>\n",
       "      <th>max</th>\n",
       "      <td>10.000000</td>\n",
       "      <td>10.000000</td>\n",
       "      <td>9.000000</td>\n",
       "      <td>10.000000</td>\n",
       "    </tr>\n",
       "  </tbody>\n",
       "</table>\n",
       "</div>"
      ],
      "text/plain": [
       "           Reach     Impact  Confidence    Efforts\n",
       "count   9.000000   9.000000    9.000000   9.000000\n",
       "mean    4.777778   4.777778    5.555556   4.888889\n",
       "std     3.153481   3.192874    3.045944   2.803767\n",
       "min     1.000000   1.000000    1.000000   1.000000\n",
       "25%     3.000000   3.000000    3.000000   3.000000\n",
       "50%     3.000000   3.000000    7.000000   5.000000\n",
       "75%     8.000000   7.000000    8.000000   6.000000\n",
       "max    10.000000  10.000000    9.000000  10.000000"
      ]
     },
     "metadata": {},
     "output_type": "display_data"
    },
    {
     "data": {
      "text/html": [
       "<div>\n",
       "<style scoped>\n",
       "    .dataframe tbody tr th:only-of-type {\n",
       "        vertical-align: middle;\n",
       "    }\n",
       "\n",
       "    .dataframe tbody tr th {\n",
       "        vertical-align: top;\n",
       "    }\n",
       "\n",
       "    .dataframe thead th {\n",
       "        text-align: right;\n",
       "    }\n",
       "</style>\n",
       "<table border=\"1\" class=\"dataframe\">\n",
       "  <thead>\n",
       "    <tr style=\"text-align: right;\">\n",
       "      <th></th>\n",
       "      <th>Hypothesis</th>\n",
       "      <th>Reach</th>\n",
       "      <th>Impact</th>\n",
       "      <th>Confidence</th>\n",
       "      <th>Efforts</th>\n",
       "    </tr>\n",
       "  </thead>\n",
       "  <tbody>\n",
       "    <tr>\n",
       "      <th>0</th>\n",
       "      <td>Добавить два новых канала привлечения трафика,...</td>\n",
       "      <td>3</td>\n",
       "      <td>10</td>\n",
       "      <td>8</td>\n",
       "      <td>6</td>\n",
       "    </tr>\n",
       "    <tr>\n",
       "      <th>1</th>\n",
       "      <td>Запустить собственную службу доставки, что сок...</td>\n",
       "      <td>2</td>\n",
       "      <td>5</td>\n",
       "      <td>4</td>\n",
       "      <td>10</td>\n",
       "    </tr>\n",
       "    <tr>\n",
       "      <th>2</th>\n",
       "      <td>Добавить блоки рекомендаций товаров на сайт ин...</td>\n",
       "      <td>8</td>\n",
       "      <td>3</td>\n",
       "      <td>7</td>\n",
       "      <td>3</td>\n",
       "    </tr>\n",
       "    <tr>\n",
       "      <th>3</th>\n",
       "      <td>Изменить структура категорий, что увеличит кон...</td>\n",
       "      <td>8</td>\n",
       "      <td>3</td>\n",
       "      <td>3</td>\n",
       "      <td>8</td>\n",
       "    </tr>\n",
       "    <tr>\n",
       "      <th>4</th>\n",
       "      <td>Изменить цвет фона главной страницы, чтобы уве...</td>\n",
       "      <td>3</td>\n",
       "      <td>1</td>\n",
       "      <td>1</td>\n",
       "      <td>1</td>\n",
       "    </tr>\n",
       "  </tbody>\n",
       "</table>\n",
       "</div>"
      ],
      "text/plain": [
       "                                          Hypothesis  Reach  Impact  \\\n",
       "0  Добавить два новых канала привлечения трафика,...      3      10   \n",
       "1  Запустить собственную службу доставки, что сок...      2       5   \n",
       "2  Добавить блоки рекомендаций товаров на сайт ин...      8       3   \n",
       "3  Изменить структура категорий, что увеличит кон...      8       3   \n",
       "4  Изменить цвет фона главной страницы, чтобы уве...      3       1   \n",
       "\n",
       "   Confidence  Efforts  \n",
       "0           8        6  \n",
       "1           4       10  \n",
       "2           7        3  \n",
       "3           3        8  \n",
       "4           1        1  "
      ]
     },
     "metadata": {},
     "output_type": "display_data"
    },
    {
     "data": {
      "text/plain": [
       "'Количество явных дубликатов:'"
      ]
     },
     "metadata": {},
     "output_type": "display_data"
    },
    {
     "data": {
      "text/plain": [
       "0"
      ]
     },
     "metadata": {},
     "output_type": "display_data"
    },
    {
     "data": {
      "text/plain": [
       "(None, None, None)"
      ]
     },
     "execution_count": 3,
     "metadata": {},
     "output_type": "execute_result"
    }
   ],
   "source": [
    "#Изучим общую информацию и посмотрим первые строки\n",
    "def data_description(df):\n",
    "    '''функция для вывода данных о датасете -info, describe, первые 5 строк, количество явных дубликатов'''\n",
    "    result = display(df.info()), display(df.describe()), display(df.head()), \n",
    "    display('Количество явных дубликатов:', df.duplicated().sum())\n",
    "    return result\n",
    "\n",
    "display('Информация о гипотезах')\n",
    "data_description(hypothesis)"
   ]
  },
  {
   "cell_type": "code",
   "execution_count": 4,
   "metadata": {},
   "outputs": [
    {
     "data": {
      "text/plain": [
       "'Информация о заказах'"
      ]
     },
     "metadata": {},
     "output_type": "display_data"
    },
    {
     "name": "stdout",
     "output_type": "stream",
     "text": [
      "<class 'pandas.core.frame.DataFrame'>\n",
      "RangeIndex: 1197 entries, 0 to 1196\n",
      "Data columns (total 5 columns):\n",
      " #   Column         Non-Null Count  Dtype \n",
      "---  ------         --------------  ----- \n",
      " 0   transactionId  1197 non-null   int64 \n",
      " 1   visitorId      1197 non-null   int64 \n",
      " 2   date           1197 non-null   object\n",
      " 3   revenue        1197 non-null   int64 \n",
      " 4   group          1197 non-null   object\n",
      "dtypes: int64(3), object(2)\n",
      "memory usage: 46.9+ KB\n"
     ]
    },
    {
     "data": {
      "text/plain": [
       "None"
      ]
     },
     "metadata": {},
     "output_type": "display_data"
    },
    {
     "data": {
      "text/html": [
       "<div>\n",
       "<style scoped>\n",
       "    .dataframe tbody tr th:only-of-type {\n",
       "        vertical-align: middle;\n",
       "    }\n",
       "\n",
       "    .dataframe tbody tr th {\n",
       "        vertical-align: top;\n",
       "    }\n",
       "\n",
       "    .dataframe thead th {\n",
       "        text-align: right;\n",
       "    }\n",
       "</style>\n",
       "<table border=\"1\" class=\"dataframe\">\n",
       "  <thead>\n",
       "    <tr style=\"text-align: right;\">\n",
       "      <th></th>\n",
       "      <th>transactionId</th>\n",
       "      <th>visitorId</th>\n",
       "      <th>revenue</th>\n",
       "    </tr>\n",
       "  </thead>\n",
       "  <tbody>\n",
       "    <tr>\n",
       "      <th>count</th>\n",
       "      <td>1.197000e+03</td>\n",
       "      <td>1.197000e+03</td>\n",
       "      <td>1.197000e+03</td>\n",
       "    </tr>\n",
       "    <tr>\n",
       "      <th>mean</th>\n",
       "      <td>2.155621e+09</td>\n",
       "      <td>2.165960e+09</td>\n",
       "      <td>8.348006e+03</td>\n",
       "    </tr>\n",
       "    <tr>\n",
       "      <th>std</th>\n",
       "      <td>1.229085e+09</td>\n",
       "      <td>1.236014e+09</td>\n",
       "      <td>3.919113e+04</td>\n",
       "    </tr>\n",
       "    <tr>\n",
       "      <th>min</th>\n",
       "      <td>1.062393e+06</td>\n",
       "      <td>5.114589e+06</td>\n",
       "      <td>5.000000e+01</td>\n",
       "    </tr>\n",
       "    <tr>\n",
       "      <th>25%</th>\n",
       "      <td>1.166776e+09</td>\n",
       "      <td>1.111826e+09</td>\n",
       "      <td>1.220000e+03</td>\n",
       "    </tr>\n",
       "    <tr>\n",
       "      <th>50%</th>\n",
       "      <td>2.145194e+09</td>\n",
       "      <td>2.217985e+09</td>\n",
       "      <td>2.978000e+03</td>\n",
       "    </tr>\n",
       "    <tr>\n",
       "      <th>75%</th>\n",
       "      <td>3.237740e+09</td>\n",
       "      <td>3.177606e+09</td>\n",
       "      <td>8.290000e+03</td>\n",
       "    </tr>\n",
       "    <tr>\n",
       "      <th>max</th>\n",
       "      <td>4.293856e+09</td>\n",
       "      <td>4.283872e+09</td>\n",
       "      <td>1.294500e+06</td>\n",
       "    </tr>\n",
       "  </tbody>\n",
       "</table>\n",
       "</div>"
      ],
      "text/plain": [
       "       transactionId     visitorId       revenue\n",
       "count   1.197000e+03  1.197000e+03  1.197000e+03\n",
       "mean    2.155621e+09  2.165960e+09  8.348006e+03\n",
       "std     1.229085e+09  1.236014e+09  3.919113e+04\n",
       "min     1.062393e+06  5.114589e+06  5.000000e+01\n",
       "25%     1.166776e+09  1.111826e+09  1.220000e+03\n",
       "50%     2.145194e+09  2.217985e+09  2.978000e+03\n",
       "75%     3.237740e+09  3.177606e+09  8.290000e+03\n",
       "max     4.293856e+09  4.283872e+09  1.294500e+06"
      ]
     },
     "metadata": {},
     "output_type": "display_data"
    },
    {
     "data": {
      "text/html": [
       "<div>\n",
       "<style scoped>\n",
       "    .dataframe tbody tr th:only-of-type {\n",
       "        vertical-align: middle;\n",
       "    }\n",
       "\n",
       "    .dataframe tbody tr th {\n",
       "        vertical-align: top;\n",
       "    }\n",
       "\n",
       "    .dataframe thead th {\n",
       "        text-align: right;\n",
       "    }\n",
       "</style>\n",
       "<table border=\"1\" class=\"dataframe\">\n",
       "  <thead>\n",
       "    <tr style=\"text-align: right;\">\n",
       "      <th></th>\n",
       "      <th>transactionId</th>\n",
       "      <th>visitorId</th>\n",
       "      <th>date</th>\n",
       "      <th>revenue</th>\n",
       "      <th>group</th>\n",
       "    </tr>\n",
       "  </thead>\n",
       "  <tbody>\n",
       "    <tr>\n",
       "      <th>0</th>\n",
       "      <td>3667963787</td>\n",
       "      <td>3312258926</td>\n",
       "      <td>2019-08-15</td>\n",
       "      <td>1650</td>\n",
       "      <td>B</td>\n",
       "    </tr>\n",
       "    <tr>\n",
       "      <th>1</th>\n",
       "      <td>2804400009</td>\n",
       "      <td>3642806036</td>\n",
       "      <td>2019-08-15</td>\n",
       "      <td>730</td>\n",
       "      <td>B</td>\n",
       "    </tr>\n",
       "    <tr>\n",
       "      <th>2</th>\n",
       "      <td>2961555356</td>\n",
       "      <td>4069496402</td>\n",
       "      <td>2019-08-15</td>\n",
       "      <td>400</td>\n",
       "      <td>A</td>\n",
       "    </tr>\n",
       "    <tr>\n",
       "      <th>3</th>\n",
       "      <td>3797467345</td>\n",
       "      <td>1196621759</td>\n",
       "      <td>2019-08-15</td>\n",
       "      <td>9759</td>\n",
       "      <td>B</td>\n",
       "    </tr>\n",
       "    <tr>\n",
       "      <th>4</th>\n",
       "      <td>2282983706</td>\n",
       "      <td>2322279887</td>\n",
       "      <td>2019-08-15</td>\n",
       "      <td>2308</td>\n",
       "      <td>B</td>\n",
       "    </tr>\n",
       "  </tbody>\n",
       "</table>\n",
       "</div>"
      ],
      "text/plain": [
       "   transactionId   visitorId        date  revenue group\n",
       "0     3667963787  3312258926  2019-08-15     1650     B\n",
       "1     2804400009  3642806036  2019-08-15      730     B\n",
       "2     2961555356  4069496402  2019-08-15      400     A\n",
       "3     3797467345  1196621759  2019-08-15     9759     B\n",
       "4     2282983706  2322279887  2019-08-15     2308     B"
      ]
     },
     "metadata": {},
     "output_type": "display_data"
    },
    {
     "data": {
      "text/plain": [
       "'Количество явных дубликатов:'"
      ]
     },
     "metadata": {},
     "output_type": "display_data"
    },
    {
     "data": {
      "text/plain": [
       "0"
      ]
     },
     "metadata": {},
     "output_type": "display_data"
    },
    {
     "data": {
      "text/plain": [
       "(None, None, None)"
      ]
     },
     "execution_count": 4,
     "metadata": {},
     "output_type": "execute_result"
    }
   ],
   "source": [
    "display('Информация о заказах')\n",
    "data_description(orders)"
   ]
  },
  {
   "cell_type": "code",
   "execution_count": 5,
   "metadata": {},
   "outputs": [
    {
     "data": {
      "text/plain": [
       "'Информация о посещениях'"
      ]
     },
     "metadata": {},
     "output_type": "display_data"
    },
    {
     "name": "stdout",
     "output_type": "stream",
     "text": [
      "<class 'pandas.core.frame.DataFrame'>\n",
      "RangeIndex: 62 entries, 0 to 61\n",
      "Data columns (total 3 columns):\n",
      " #   Column    Non-Null Count  Dtype \n",
      "---  ------    --------------  ----- \n",
      " 0   date      62 non-null     object\n",
      " 1   group     62 non-null     object\n",
      " 2   visitors  62 non-null     int64 \n",
      "dtypes: int64(1), object(2)\n",
      "memory usage: 1.6+ KB\n"
     ]
    },
    {
     "data": {
      "text/plain": [
       "None"
      ]
     },
     "metadata": {},
     "output_type": "display_data"
    },
    {
     "data": {
      "text/html": [
       "<div>\n",
       "<style scoped>\n",
       "    .dataframe tbody tr th:only-of-type {\n",
       "        vertical-align: middle;\n",
       "    }\n",
       "\n",
       "    .dataframe tbody tr th {\n",
       "        vertical-align: top;\n",
       "    }\n",
       "\n",
       "    .dataframe thead th {\n",
       "        text-align: right;\n",
       "    }\n",
       "</style>\n",
       "<table border=\"1\" class=\"dataframe\">\n",
       "  <thead>\n",
       "    <tr style=\"text-align: right;\">\n",
       "      <th></th>\n",
       "      <th>visitors</th>\n",
       "    </tr>\n",
       "  </thead>\n",
       "  <tbody>\n",
       "    <tr>\n",
       "      <th>count</th>\n",
       "      <td>62.000000</td>\n",
       "    </tr>\n",
       "    <tr>\n",
       "      <th>mean</th>\n",
       "      <td>607.290323</td>\n",
       "    </tr>\n",
       "    <tr>\n",
       "      <th>std</th>\n",
       "      <td>114.400560</td>\n",
       "    </tr>\n",
       "    <tr>\n",
       "      <th>min</th>\n",
       "      <td>361.000000</td>\n",
       "    </tr>\n",
       "    <tr>\n",
       "      <th>25%</th>\n",
       "      <td>534.000000</td>\n",
       "    </tr>\n",
       "    <tr>\n",
       "      <th>50%</th>\n",
       "      <td>624.500000</td>\n",
       "    </tr>\n",
       "    <tr>\n",
       "      <th>75%</th>\n",
       "      <td>710.500000</td>\n",
       "    </tr>\n",
       "    <tr>\n",
       "      <th>max</th>\n",
       "      <td>770.000000</td>\n",
       "    </tr>\n",
       "  </tbody>\n",
       "</table>\n",
       "</div>"
      ],
      "text/plain": [
       "         visitors\n",
       "count   62.000000\n",
       "mean   607.290323\n",
       "std    114.400560\n",
       "min    361.000000\n",
       "25%    534.000000\n",
       "50%    624.500000\n",
       "75%    710.500000\n",
       "max    770.000000"
      ]
     },
     "metadata": {},
     "output_type": "display_data"
    },
    {
     "data": {
      "text/html": [
       "<div>\n",
       "<style scoped>\n",
       "    .dataframe tbody tr th:only-of-type {\n",
       "        vertical-align: middle;\n",
       "    }\n",
       "\n",
       "    .dataframe tbody tr th {\n",
       "        vertical-align: top;\n",
       "    }\n",
       "\n",
       "    .dataframe thead th {\n",
       "        text-align: right;\n",
       "    }\n",
       "</style>\n",
       "<table border=\"1\" class=\"dataframe\">\n",
       "  <thead>\n",
       "    <tr style=\"text-align: right;\">\n",
       "      <th></th>\n",
       "      <th>date</th>\n",
       "      <th>group</th>\n",
       "      <th>visitors</th>\n",
       "    </tr>\n",
       "  </thead>\n",
       "  <tbody>\n",
       "    <tr>\n",
       "      <th>0</th>\n",
       "      <td>2019-08-01</td>\n",
       "      <td>A</td>\n",
       "      <td>719</td>\n",
       "    </tr>\n",
       "    <tr>\n",
       "      <th>1</th>\n",
       "      <td>2019-08-02</td>\n",
       "      <td>A</td>\n",
       "      <td>619</td>\n",
       "    </tr>\n",
       "    <tr>\n",
       "      <th>2</th>\n",
       "      <td>2019-08-03</td>\n",
       "      <td>A</td>\n",
       "      <td>507</td>\n",
       "    </tr>\n",
       "    <tr>\n",
       "      <th>3</th>\n",
       "      <td>2019-08-04</td>\n",
       "      <td>A</td>\n",
       "      <td>717</td>\n",
       "    </tr>\n",
       "    <tr>\n",
       "      <th>4</th>\n",
       "      <td>2019-08-05</td>\n",
       "      <td>A</td>\n",
       "      <td>756</td>\n",
       "    </tr>\n",
       "  </tbody>\n",
       "</table>\n",
       "</div>"
      ],
      "text/plain": [
       "         date group  visitors\n",
       "0  2019-08-01     A       719\n",
       "1  2019-08-02     A       619\n",
       "2  2019-08-03     A       507\n",
       "3  2019-08-04     A       717\n",
       "4  2019-08-05     A       756"
      ]
     },
     "metadata": {},
     "output_type": "display_data"
    },
    {
     "data": {
      "text/plain": [
       "'Количество явных дубликатов:'"
      ]
     },
     "metadata": {},
     "output_type": "display_data"
    },
    {
     "data": {
      "text/plain": [
       "0"
      ]
     },
     "metadata": {},
     "output_type": "display_data"
    },
    {
     "data": {
      "text/plain": [
       "(None, None, None)"
      ]
     },
     "execution_count": 5,
     "metadata": {},
     "output_type": "execute_result"
    }
   ],
   "source": [
    "display('Информация о посещениях')\n",
    "data_description(visitors)"
   ]
  },
  {
   "cell_type": "markdown",
   "metadata": {},
   "source": [
    "**Выводы**\n",
    "\n",
    "- Пропусков в данных нет\n",
    "- Явных дубликатов в данных нет\n",
    "- Выбивающихся данных, вызывающих недоверие, нет\n",
    "- Необходимо привести названия столбцов в нижний регистр и разделить слова нижним подчеркиванием (для соблюдения единого стиля)\n",
    "- Необходимо изменить тип данных в столбцах с данными о дате"
   ]
  },
  {
   "cell_type": "markdown",
   "metadata": {},
   "source": [
    "### 2. Предобработка данных <a id='preprocessing'></a>"
   ]
  },
  {
   "cell_type": "code",
   "execution_count": 6,
   "metadata": {},
   "outputs": [
    {
     "data": {
      "text/html": [
       "<div>\n",
       "<style scoped>\n",
       "    .dataframe tbody tr th:only-of-type {\n",
       "        vertical-align: middle;\n",
       "    }\n",
       "\n",
       "    .dataframe tbody tr th {\n",
       "        vertical-align: top;\n",
       "    }\n",
       "\n",
       "    .dataframe thead th {\n",
       "        text-align: right;\n",
       "    }\n",
       "</style>\n",
       "<table border=\"1\" class=\"dataframe\">\n",
       "  <thead>\n",
       "    <tr style=\"text-align: right;\">\n",
       "      <th></th>\n",
       "      <th>hypothesis</th>\n",
       "      <th>reach</th>\n",
       "      <th>impact</th>\n",
       "      <th>confidence</th>\n",
       "      <th>efforts</th>\n",
       "    </tr>\n",
       "  </thead>\n",
       "  <tbody>\n",
       "    <tr>\n",
       "      <th>0</th>\n",
       "      <td>Добавить два новых канала привлечения трафика,...</td>\n",
       "      <td>3</td>\n",
       "      <td>10</td>\n",
       "      <td>8</td>\n",
       "      <td>6</td>\n",
       "    </tr>\n",
       "    <tr>\n",
       "      <th>1</th>\n",
       "      <td>Запустить собственную службу доставки, что сок...</td>\n",
       "      <td>2</td>\n",
       "      <td>5</td>\n",
       "      <td>4</td>\n",
       "      <td>10</td>\n",
       "    </tr>\n",
       "  </tbody>\n",
       "</table>\n",
       "</div>"
      ],
      "text/plain": [
       "                                          hypothesis  reach  impact  \\\n",
       "0  Добавить два новых канала привлечения трафика,...      3      10   \n",
       "1  Запустить собственную службу доставки, что сок...      2       5   \n",
       "\n",
       "   confidence  efforts  \n",
       "0           8        6  \n",
       "1           4       10  "
      ]
     },
     "metadata": {},
     "output_type": "display_data"
    }
   ],
   "source": [
    "#Приведем названия столбцов к единому стилю\n",
    "hypothesis.columns = hypothesis.columns.str.lower()\n",
    "display(hypothesis.head(2))"
   ]
  },
  {
   "cell_type": "code",
   "execution_count": 7,
   "metadata": {},
   "outputs": [
    {
     "data": {
      "text/plain": [
       "['transactionId', 'visitorId', 'date', 'revenue', 'group']"
      ]
     },
     "execution_count": 7,
     "metadata": {},
     "output_type": "execute_result"
    }
   ],
   "source": [
    "list(orders.columns)"
   ]
  },
  {
   "cell_type": "code",
   "execution_count": 8,
   "metadata": {},
   "outputs": [
    {
     "data": {
      "text/html": [
       "<div>\n",
       "<style scoped>\n",
       "    .dataframe tbody tr th:only-of-type {\n",
       "        vertical-align: middle;\n",
       "    }\n",
       "\n",
       "    .dataframe tbody tr th {\n",
       "        vertical-align: top;\n",
       "    }\n",
       "\n",
       "    .dataframe thead th {\n",
       "        text-align: right;\n",
       "    }\n",
       "</style>\n",
       "<table border=\"1\" class=\"dataframe\">\n",
       "  <thead>\n",
       "    <tr style=\"text-align: right;\">\n",
       "      <th></th>\n",
       "      <th>transaction_id</th>\n",
       "      <th>visitor_id</th>\n",
       "      <th>date</th>\n",
       "      <th>revenue</th>\n",
       "      <th>group</th>\n",
       "    </tr>\n",
       "  </thead>\n",
       "  <tbody>\n",
       "    <tr>\n",
       "      <th>0</th>\n",
       "      <td>3667963787</td>\n",
       "      <td>3312258926</td>\n",
       "      <td>2019-08-15</td>\n",
       "      <td>1650</td>\n",
       "      <td>B</td>\n",
       "    </tr>\n",
       "    <tr>\n",
       "      <th>1</th>\n",
       "      <td>2804400009</td>\n",
       "      <td>3642806036</td>\n",
       "      <td>2019-08-15</td>\n",
       "      <td>730</td>\n",
       "      <td>B</td>\n",
       "    </tr>\n",
       "  </tbody>\n",
       "</table>\n",
       "</div>"
      ],
      "text/plain": [
       "   transaction_id  visitor_id        date  revenue group\n",
       "0      3667963787  3312258926  2019-08-15     1650     B\n",
       "1      2804400009  3642806036  2019-08-15      730     B"
      ]
     },
     "metadata": {},
     "output_type": "display_data"
    }
   ],
   "source": [
    "orders = orders.rename(columns={'transactionId': 'transaction_id', 'visitorId': 'visitor_id'})\n",
    "display(orders.head(2))"
   ]
  },
  {
   "cell_type": "code",
   "execution_count": 9,
   "metadata": {},
   "outputs": [
    {
     "name": "stdout",
     "output_type": "stream",
     "text": [
      "<class 'pandas.core.frame.DataFrame'>\n",
      "RangeIndex: 62 entries, 0 to 61\n",
      "Data columns (total 3 columns):\n",
      " #   Column    Non-Null Count  Dtype         \n",
      "---  ------    --------------  -----         \n",
      " 0   date      62 non-null     datetime64[ns]\n",
      " 1   group     62 non-null     object        \n",
      " 2   visitors  62 non-null     int64         \n",
      "dtypes: datetime64[ns](1), int64(1), object(1)\n",
      "memory usage: 1.6+ KB\n"
     ]
    },
    {
     "data": {
      "text/plain": [
       "None"
      ]
     },
     "metadata": {},
     "output_type": "display_data"
    },
    {
     "name": "stdout",
     "output_type": "stream",
     "text": [
      "<class 'pandas.core.frame.DataFrame'>\n",
      "RangeIndex: 1197 entries, 0 to 1196\n",
      "Data columns (total 5 columns):\n",
      " #   Column          Non-Null Count  Dtype         \n",
      "---  ------          --------------  -----         \n",
      " 0   transaction_id  1197 non-null   int64         \n",
      " 1   visitor_id      1197 non-null   int64         \n",
      " 2   date            1197 non-null   datetime64[ns]\n",
      " 3   revenue         1197 non-null   int64         \n",
      " 4   group           1197 non-null   object        \n",
      "dtypes: datetime64[ns](1), int64(3), object(1)\n",
      "memory usage: 46.9+ KB\n"
     ]
    }
   ],
   "source": [
    "#Изменим тип данных в столбцах с датами\n",
    "\n",
    "visitors['date'] = visitors['date'].map(lambda x: dt.datetime.strptime(x, '%Y-%m-%d'))\n",
    "orders['date'] = orders['date'].map(lambda x: dt.datetime.strptime(x, '%Y-%m-%d'))\n",
    "\n",
    "display(visitors.info())\n",
    "orders.info()"
   ]
  },
  {
   "cell_type": "markdown",
   "metadata": {},
   "source": [
    "**Выводы**\n",
    "\n",
    "- Предобработка проведена, данные готовы к дальнейшей работе"
   ]
  },
  {
   "cell_type": "markdown",
   "metadata": {},
   "source": [
    "### 3. Приоритизация гипотез <a id='prioritization'></a>"
   ]
  },
  {
   "cell_type": "code",
   "execution_count": 10,
   "metadata": {},
   "outputs": [
    {
     "data": {
      "text/html": [
       "<div>\n",
       "<style scoped>\n",
       "    .dataframe tbody tr th:only-of-type {\n",
       "        vertical-align: middle;\n",
       "    }\n",
       "\n",
       "    .dataframe tbody tr th {\n",
       "        vertical-align: top;\n",
       "    }\n",
       "\n",
       "    .dataframe thead th {\n",
       "        text-align: right;\n",
       "    }\n",
       "</style>\n",
       "<table border=\"1\" class=\"dataframe\">\n",
       "  <thead>\n",
       "    <tr style=\"text-align: right;\">\n",
       "      <th></th>\n",
       "      <th>hypothesis</th>\n",
       "      <th>reach</th>\n",
       "      <th>impact</th>\n",
       "      <th>confidence</th>\n",
       "      <th>efforts</th>\n",
       "    </tr>\n",
       "  </thead>\n",
       "  <tbody>\n",
       "    <tr>\n",
       "      <th>0</th>\n",
       "      <td>Добавить два новых канала привлечения трафика, что позволит привлекать на 30% больше пользователей</td>\n",
       "      <td>3</td>\n",
       "      <td>10</td>\n",
       "      <td>8</td>\n",
       "      <td>6</td>\n",
       "    </tr>\n",
       "    <tr>\n",
       "      <th>1</th>\n",
       "      <td>Запустить собственную службу доставки, что сократит срок доставки заказов</td>\n",
       "      <td>2</td>\n",
       "      <td>5</td>\n",
       "      <td>4</td>\n",
       "      <td>10</td>\n",
       "    </tr>\n",
       "    <tr>\n",
       "      <th>2</th>\n",
       "      <td>Добавить блоки рекомендаций товаров на сайт интернет магазина, чтобы повысить конверсию и средний чек заказа</td>\n",
       "      <td>8</td>\n",
       "      <td>3</td>\n",
       "      <td>7</td>\n",
       "      <td>3</td>\n",
       "    </tr>\n",
       "    <tr>\n",
       "      <th>3</th>\n",
       "      <td>Изменить структура категорий, что увеличит конверсию, т.к. пользователи быстрее найдут нужный товар</td>\n",
       "      <td>8</td>\n",
       "      <td>3</td>\n",
       "      <td>3</td>\n",
       "      <td>8</td>\n",
       "    </tr>\n",
       "    <tr>\n",
       "      <th>4</th>\n",
       "      <td>Изменить цвет фона главной страницы, чтобы увеличить вовлеченность пользователей</td>\n",
       "      <td>3</td>\n",
       "      <td>1</td>\n",
       "      <td>1</td>\n",
       "      <td>1</td>\n",
       "    </tr>\n",
       "    <tr>\n",
       "      <th>5</th>\n",
       "      <td>Добавить страницу отзывов клиентов о магазине, что позволит увеличить количество заказов</td>\n",
       "      <td>3</td>\n",
       "      <td>2</td>\n",
       "      <td>2</td>\n",
       "      <td>3</td>\n",
       "    </tr>\n",
       "    <tr>\n",
       "      <th>6</th>\n",
       "      <td>Показать на главной странице баннеры с актуальными акциями и распродажами, чтобы увеличить конверсию</td>\n",
       "      <td>5</td>\n",
       "      <td>3</td>\n",
       "      <td>8</td>\n",
       "      <td>3</td>\n",
       "    </tr>\n",
       "    <tr>\n",
       "      <th>7</th>\n",
       "      <td>Добавить форму подписки на все основные страницы, чтобы собрать базу клиентов для email-рассылок</td>\n",
       "      <td>10</td>\n",
       "      <td>7</td>\n",
       "      <td>8</td>\n",
       "      <td>5</td>\n",
       "    </tr>\n",
       "    <tr>\n",
       "      <th>8</th>\n",
       "      <td>Запустить акцию, дающую скидку на товар в день рождения</td>\n",
       "      <td>1</td>\n",
       "      <td>9</td>\n",
       "      <td>9</td>\n",
       "      <td>5</td>\n",
       "    </tr>\n",
       "  </tbody>\n",
       "</table>\n",
       "</div>"
      ],
      "text/plain": [
       "                                                                                                     hypothesis  \\\n",
       "0            Добавить два новых канала привлечения трафика, что позволит привлекать на 30% больше пользователей   \n",
       "1                                     Запустить собственную службу доставки, что сократит срок доставки заказов   \n",
       "2  Добавить блоки рекомендаций товаров на сайт интернет магазина, чтобы повысить конверсию и средний чек заказа   \n",
       "3           Изменить структура категорий, что увеличит конверсию, т.к. пользователи быстрее найдут нужный товар   \n",
       "4                              Изменить цвет фона главной страницы, чтобы увеличить вовлеченность пользователей   \n",
       "5                      Добавить страницу отзывов клиентов о магазине, что позволит увеличить количество заказов   \n",
       "6          Показать на главной странице баннеры с актуальными акциями и распродажами, чтобы увеличить конверсию   \n",
       "7              Добавить форму подписки на все основные страницы, чтобы собрать базу клиентов для email-рассылок   \n",
       "8                                                       Запустить акцию, дающую скидку на товар в день рождения   \n",
       "\n",
       "   reach  impact  confidence  efforts  \n",
       "0      3      10           8        6  \n",
       "1      2       5           4       10  \n",
       "2      8       3           7        3  \n",
       "3      8       3           3        8  \n",
       "4      3       1           1        1  \n",
       "5      3       2           2        3  \n",
       "6      5       3           8        3  \n",
       "7     10       7           8        5  \n",
       "8      1       9           9        5  "
      ]
     },
     "execution_count": 10,
     "metadata": {},
     "output_type": "execute_result"
    }
   ],
   "source": [
    "#Посмотрим имеющийся список гипотез и их оценки по параметрам RICE\n",
    "pd.set_option('max_colwidth', None)\n",
    "hypothesis"
   ]
  },
  {
   "cell_type": "code",
   "execution_count": 11,
   "metadata": {},
   "outputs": [
    {
     "data": {
      "text/html": [
       "<div>\n",
       "<style scoped>\n",
       "    .dataframe tbody tr th:only-of-type {\n",
       "        vertical-align: middle;\n",
       "    }\n",
       "\n",
       "    .dataframe tbody tr th {\n",
       "        vertical-align: top;\n",
       "    }\n",
       "\n",
       "    .dataframe thead th {\n",
       "        text-align: right;\n",
       "    }\n",
       "</style>\n",
       "<table border=\"1\" class=\"dataframe\">\n",
       "  <thead>\n",
       "    <tr style=\"text-align: right;\">\n",
       "      <th></th>\n",
       "      <th>hypothesis</th>\n",
       "      <th>reach</th>\n",
       "      <th>impact</th>\n",
       "      <th>confidence</th>\n",
       "      <th>efforts</th>\n",
       "      <th>ice_score</th>\n",
       "    </tr>\n",
       "  </thead>\n",
       "  <tbody>\n",
       "    <tr>\n",
       "      <th>8</th>\n",
       "      <td>Запустить акцию, дающую скидку на товар в день рождения</td>\n",
       "      <td>1</td>\n",
       "      <td>9</td>\n",
       "      <td>9</td>\n",
       "      <td>5</td>\n",
       "      <td>16.20</td>\n",
       "    </tr>\n",
       "    <tr>\n",
       "      <th>0</th>\n",
       "      <td>Добавить два новых канала привлечения трафика, что позволит привлекать на 30% больше пользователей</td>\n",
       "      <td>3</td>\n",
       "      <td>10</td>\n",
       "      <td>8</td>\n",
       "      <td>6</td>\n",
       "      <td>13.33</td>\n",
       "    </tr>\n",
       "    <tr>\n",
       "      <th>7</th>\n",
       "      <td>Добавить форму подписки на все основные страницы, чтобы собрать базу клиентов для email-рассылок</td>\n",
       "      <td>10</td>\n",
       "      <td>7</td>\n",
       "      <td>8</td>\n",
       "      <td>5</td>\n",
       "      <td>11.20</td>\n",
       "    </tr>\n",
       "    <tr>\n",
       "      <th>6</th>\n",
       "      <td>Показать на главной странице баннеры с актуальными акциями и распродажами, чтобы увеличить конверсию</td>\n",
       "      <td>5</td>\n",
       "      <td>3</td>\n",
       "      <td>8</td>\n",
       "      <td>3</td>\n",
       "      <td>8.00</td>\n",
       "    </tr>\n",
       "    <tr>\n",
       "      <th>2</th>\n",
       "      <td>Добавить блоки рекомендаций товаров на сайт интернет магазина, чтобы повысить конверсию и средний чек заказа</td>\n",
       "      <td>8</td>\n",
       "      <td>3</td>\n",
       "      <td>7</td>\n",
       "      <td>3</td>\n",
       "      <td>7.00</td>\n",
       "    </tr>\n",
       "    <tr>\n",
       "      <th>1</th>\n",
       "      <td>Запустить собственную службу доставки, что сократит срок доставки заказов</td>\n",
       "      <td>2</td>\n",
       "      <td>5</td>\n",
       "      <td>4</td>\n",
       "      <td>10</td>\n",
       "      <td>2.00</td>\n",
       "    </tr>\n",
       "    <tr>\n",
       "      <th>5</th>\n",
       "      <td>Добавить страницу отзывов клиентов о магазине, что позволит увеличить количество заказов</td>\n",
       "      <td>3</td>\n",
       "      <td>2</td>\n",
       "      <td>2</td>\n",
       "      <td>3</td>\n",
       "      <td>1.33</td>\n",
       "    </tr>\n",
       "    <tr>\n",
       "      <th>3</th>\n",
       "      <td>Изменить структура категорий, что увеличит конверсию, т.к. пользователи быстрее найдут нужный товар</td>\n",
       "      <td>8</td>\n",
       "      <td>3</td>\n",
       "      <td>3</td>\n",
       "      <td>8</td>\n",
       "      <td>1.12</td>\n",
       "    </tr>\n",
       "    <tr>\n",
       "      <th>4</th>\n",
       "      <td>Изменить цвет фона главной страницы, чтобы увеличить вовлеченность пользователей</td>\n",
       "      <td>3</td>\n",
       "      <td>1</td>\n",
       "      <td>1</td>\n",
       "      <td>1</td>\n",
       "      <td>1.00</td>\n",
       "    </tr>\n",
       "  </tbody>\n",
       "</table>\n",
       "</div>"
      ],
      "text/plain": [
       "                                                                                                     hypothesis  \\\n",
       "8                                                       Запустить акцию, дающую скидку на товар в день рождения   \n",
       "0            Добавить два новых канала привлечения трафика, что позволит привлекать на 30% больше пользователей   \n",
       "7              Добавить форму подписки на все основные страницы, чтобы собрать базу клиентов для email-рассылок   \n",
       "6          Показать на главной странице баннеры с актуальными акциями и распродажами, чтобы увеличить конверсию   \n",
       "2  Добавить блоки рекомендаций товаров на сайт интернет магазина, чтобы повысить конверсию и средний чек заказа   \n",
       "1                                     Запустить собственную службу доставки, что сократит срок доставки заказов   \n",
       "5                      Добавить страницу отзывов клиентов о магазине, что позволит увеличить количество заказов   \n",
       "3           Изменить структура категорий, что увеличит конверсию, т.к. пользователи быстрее найдут нужный товар   \n",
       "4                              Изменить цвет фона главной страницы, чтобы увеличить вовлеченность пользователей   \n",
       "\n",
       "   reach  impact  confidence  efforts  ice_score  \n",
       "8      1       9           9        5      16.20  \n",
       "0      3      10           8        6      13.33  \n",
       "7     10       7           8        5      11.20  \n",
       "6      5       3           8        3       8.00  \n",
       "2      8       3           7        3       7.00  \n",
       "1      2       5           4       10       2.00  \n",
       "5      3       2           2        3       1.33  \n",
       "3      8       3           3        8       1.12  \n",
       "4      3       1           1        1       1.00  "
      ]
     },
     "metadata": {},
     "output_type": "display_data"
    }
   ],
   "source": [
    "#Применим фреймворк ICE для приоритизации гипотез\n",
    "\n",
    "hypothesis['ice_score'] = round((hypothesis['impact']*hypothesis['confidence'])/hypothesis['efforts'], 2)\n",
    "display(hypothesis.sort_values(by='ice_score', ascending=False))"
   ]
  },
  {
   "cell_type": "code",
   "execution_count": 12,
   "metadata": {},
   "outputs": [
    {
     "data": {
      "text/html": [
       "<div>\n",
       "<style scoped>\n",
       "    .dataframe tbody tr th:only-of-type {\n",
       "        vertical-align: middle;\n",
       "    }\n",
       "\n",
       "    .dataframe tbody tr th {\n",
       "        vertical-align: top;\n",
       "    }\n",
       "\n",
       "    .dataframe thead th {\n",
       "        text-align: right;\n",
       "    }\n",
       "</style>\n",
       "<table border=\"1\" class=\"dataframe\">\n",
       "  <thead>\n",
       "    <tr style=\"text-align: right;\">\n",
       "      <th></th>\n",
       "      <th>hypothesis</th>\n",
       "      <th>reach</th>\n",
       "      <th>impact</th>\n",
       "      <th>confidence</th>\n",
       "      <th>efforts</th>\n",
       "      <th>ice_score</th>\n",
       "      <th>rice_score</th>\n",
       "    </tr>\n",
       "  </thead>\n",
       "  <tbody>\n",
       "    <tr>\n",
       "      <th>7</th>\n",
       "      <td>Добавить форму подписки на все основные страницы, чтобы собрать базу клиентов для email-рассылок</td>\n",
       "      <td>10</td>\n",
       "      <td>7</td>\n",
       "      <td>8</td>\n",
       "      <td>5</td>\n",
       "      <td>11.20</td>\n",
       "      <td>112.0</td>\n",
       "    </tr>\n",
       "    <tr>\n",
       "      <th>2</th>\n",
       "      <td>Добавить блоки рекомендаций товаров на сайт интернет магазина, чтобы повысить конверсию и средний чек заказа</td>\n",
       "      <td>8</td>\n",
       "      <td>3</td>\n",
       "      <td>7</td>\n",
       "      <td>3</td>\n",
       "      <td>7.00</td>\n",
       "      <td>56.0</td>\n",
       "    </tr>\n",
       "    <tr>\n",
       "      <th>0</th>\n",
       "      <td>Добавить два новых канала привлечения трафика, что позволит привлекать на 30% больше пользователей</td>\n",
       "      <td>3</td>\n",
       "      <td>10</td>\n",
       "      <td>8</td>\n",
       "      <td>6</td>\n",
       "      <td>13.33</td>\n",
       "      <td>40.0</td>\n",
       "    </tr>\n",
       "    <tr>\n",
       "      <th>6</th>\n",
       "      <td>Показать на главной странице баннеры с актуальными акциями и распродажами, чтобы увеличить конверсию</td>\n",
       "      <td>5</td>\n",
       "      <td>3</td>\n",
       "      <td>8</td>\n",
       "      <td>3</td>\n",
       "      <td>8.00</td>\n",
       "      <td>40.0</td>\n",
       "    </tr>\n",
       "    <tr>\n",
       "      <th>8</th>\n",
       "      <td>Запустить акцию, дающую скидку на товар в день рождения</td>\n",
       "      <td>1</td>\n",
       "      <td>9</td>\n",
       "      <td>9</td>\n",
       "      <td>5</td>\n",
       "      <td>16.20</td>\n",
       "      <td>16.2</td>\n",
       "    </tr>\n",
       "    <tr>\n",
       "      <th>3</th>\n",
       "      <td>Изменить структура категорий, что увеличит конверсию, т.к. пользователи быстрее найдут нужный товар</td>\n",
       "      <td>8</td>\n",
       "      <td>3</td>\n",
       "      <td>3</td>\n",
       "      <td>8</td>\n",
       "      <td>1.12</td>\n",
       "      <td>9.0</td>\n",
       "    </tr>\n",
       "    <tr>\n",
       "      <th>1</th>\n",
       "      <td>Запустить собственную службу доставки, что сократит срок доставки заказов</td>\n",
       "      <td>2</td>\n",
       "      <td>5</td>\n",
       "      <td>4</td>\n",
       "      <td>10</td>\n",
       "      <td>2.00</td>\n",
       "      <td>4.0</td>\n",
       "    </tr>\n",
       "    <tr>\n",
       "      <th>5</th>\n",
       "      <td>Добавить страницу отзывов клиентов о магазине, что позволит увеличить количество заказов</td>\n",
       "      <td>3</td>\n",
       "      <td>2</td>\n",
       "      <td>2</td>\n",
       "      <td>3</td>\n",
       "      <td>1.33</td>\n",
       "      <td>4.0</td>\n",
       "    </tr>\n",
       "    <tr>\n",
       "      <th>4</th>\n",
       "      <td>Изменить цвет фона главной страницы, чтобы увеличить вовлеченность пользователей</td>\n",
       "      <td>3</td>\n",
       "      <td>1</td>\n",
       "      <td>1</td>\n",
       "      <td>1</td>\n",
       "      <td>1.00</td>\n",
       "      <td>3.0</td>\n",
       "    </tr>\n",
       "  </tbody>\n",
       "</table>\n",
       "</div>"
      ],
      "text/plain": [
       "                                                                                                     hypothesis  \\\n",
       "7              Добавить форму подписки на все основные страницы, чтобы собрать базу клиентов для email-рассылок   \n",
       "2  Добавить блоки рекомендаций товаров на сайт интернет магазина, чтобы повысить конверсию и средний чек заказа   \n",
       "0            Добавить два новых канала привлечения трафика, что позволит привлекать на 30% больше пользователей   \n",
       "6          Показать на главной странице баннеры с актуальными акциями и распродажами, чтобы увеличить конверсию   \n",
       "8                                                       Запустить акцию, дающую скидку на товар в день рождения   \n",
       "3           Изменить структура категорий, что увеличит конверсию, т.к. пользователи быстрее найдут нужный товар   \n",
       "1                                     Запустить собственную службу доставки, что сократит срок доставки заказов   \n",
       "5                      Добавить страницу отзывов клиентов о магазине, что позволит увеличить количество заказов   \n",
       "4                              Изменить цвет фона главной страницы, чтобы увеличить вовлеченность пользователей   \n",
       "\n",
       "   reach  impact  confidence  efforts  ice_score  rice_score  \n",
       "7     10       7           8        5      11.20       112.0  \n",
       "2      8       3           7        3       7.00        56.0  \n",
       "0      3      10           8        6      13.33        40.0  \n",
       "6      5       3           8        3       8.00        40.0  \n",
       "8      1       9           9        5      16.20        16.2  \n",
       "3      8       3           3        8       1.12         9.0  \n",
       "1      2       5           4       10       2.00         4.0  \n",
       "5      3       2           2        3       1.33         4.0  \n",
       "4      3       1           1        1       1.00         3.0  "
      ]
     },
     "metadata": {},
     "output_type": "display_data"
    }
   ],
   "source": [
    "#Применим фреймворк RICE для приоритизации гипотез\n",
    "\n",
    "hypothesis['rice_score'] = round((hypothesis['reach']*hypothesis['impact']*hypothesis['confidence'])/hypothesis['efforts'], 2)\n",
    "display(hypothesis.sort_values(by='rice_score', ascending=False))"
   ]
  },
  {
   "cell_type": "markdown",
   "metadata": {},
   "source": [
    "**Выводы**\n",
    "\n",
    "- Согласно расчетам по фреймворку ICE, в приоритете проверка гипотез № 8, 0 и 7 (по убыванию набранных баллов)\n",
    "- Согласно расчетам по фреймворку RICE, в приоритете проверка гипотез № 7, 2 и 0 (по убыванию набранных баллов)\n",
    "- Разница в приоритете объясняется подходом к расчетам в фреймворках - RICE, в отличие от ICE, учитывает охват аудитории, на которую повлияют изменения. \n",
    "\n",
    "Это очень наглядно можно оценить на гипотезе № 8 \"Запустить акцию, дающую скидку на товар в день рождения\", которая заняла первое место по оценке ICE. Высокий уровень влияния на пользователей, высокий уровень уверенности в том, что гипотеза серьезно повлияет и средний уровень затрат на проверку гипотезы - все это позволило гипотезе набрать наивысший балл. Но если к расчетам добавить оценку охвата пользователей, которых затронут изменения, гипотеза сразу начинает уступать другим вариантам. День рождения бывает только раз в году, соответственно, во все прочие даты, акция не будет влиять на выручку по каждому конкретному пользователю.\t\n",
    "\n",
    "- В первую очередь, проведем A/B-тест гипотезы, набравшей наибольшее количество баллов при расчете по фреймворку RICE и попавшей в ТОП-3 фреймворка ICE - гипотеза №7 \"Добавить форму подписки на все основные страницы, чтобы собрать базу клиентов для email-рассылок\"."
   ]
  },
  {
   "cell_type": "markdown",
   "metadata": {},
   "source": [
    "### 4. Анализ A/B-теста <a id='analysis'></a>"
   ]
  },
  {
   "cell_type": "markdown",
   "metadata": {},
   "source": [
    "Для корректного анализа, убедимся, что были соблюдены критерии успешного А/А теста. По имеющейся у нас сейчас информации, мы можем проверить только то, не повторяются ли id пользователей в разных группах."
   ]
  },
  {
   "cell_type": "code",
   "execution_count": 13,
   "metadata": {},
   "outputs": [
    {
     "data": {
      "text/plain": [
       "array(['B', 'A'], dtype=object)"
      ]
     },
     "metadata": {},
     "output_type": "display_data"
    },
    {
     "data": {
      "text/plain": [
       "array(['A', 'B'], dtype=object)"
      ]
     },
     "execution_count": 13,
     "metadata": {},
     "output_type": "execute_result"
    }
   ],
   "source": [
    "#Проверим количество групп\n",
    "display(orders['group'].unique())\n",
    "visitors['group'].unique()"
   ]
  },
  {
   "cell_type": "code",
   "execution_count": 14,
   "metadata": {},
   "outputs": [
    {
     "data": {
      "text/plain": [
       "'Количество повторяющихся пользователей в обеих группах: '"
      ]
     },
     "metadata": {},
     "output_type": "display_data"
    },
    {
     "data": {
      "text/plain": [
       "58"
      ]
     },
     "metadata": {},
     "output_type": "display_data"
    }
   ],
   "source": [
    "#Убедимся, что пользователи не повторяются в разных группах\n",
    "group_a = orders[(orders['group'] == 'A')]['visitor_id']\n",
    "group_b = orders[(orders['group'] == 'B')]['visitor_id']\n",
    "display('Количество повторяющихся пользователей в обеих группах: ', len(list(set(group_a) & set(group_b))))"
   ]
  },
  {
   "cell_type": "code",
   "execution_count": 15,
   "metadata": {},
   "outputs": [
    {
     "data": {
      "text/plain": [
       "'Процент повторяющихся пользователей: 5.63 %'"
      ]
     },
     "metadata": {},
     "output_type": "display_data"
    }
   ],
   "source": [
    "#Выделим повторяющихся пользователей в отдельную группу, посчитаем процент\n",
    "group_mistake = list(set(group_a) & set(group_b))\n",
    "display(f\"Процент повторяющихся пользователей: {round(len(group_mistake)/len(orders['visitor_id'].unique()) * 100, 2)} %\")"
   ]
  },
  {
   "cell_type": "markdown",
   "metadata": {},
   "source": [
    "К сожалению, в данные закралась ошибка - более 5% пользователей попали в обе группы тестирования, эта ситуация недопустима. Придется удалить данные о таких пользователях."
   ]
  },
  {
   "cell_type": "code",
   "execution_count": 16,
   "metadata": {},
   "outputs": [
    {
     "data": {
      "text/plain": [
       "'Количество повторяющихся пользователей в обеих группах: '"
      ]
     },
     "metadata": {},
     "output_type": "display_data"
    },
    {
     "data": {
      "text/plain": [
       "0"
      ]
     },
     "metadata": {},
     "output_type": "display_data"
    }
   ],
   "source": [
    "#Обновляем датасет с заказами \n",
    "orders = orders.query('visitor_id not in @group_mistake')\n",
    "group_a = orders[(orders['group'] == 'A')]['visitor_id']\n",
    "group_b = orders[(orders['group'] == 'B')]['visitor_id']\n",
    "display('Количество повторяющихся пользователей в обеих группах: ', len(list(set(group_a) & set(group_b))))"
   ]
  },
  {
   "cell_type": "markdown",
   "metadata": {},
   "source": [
    "Приступаем к анализу результатов A/B-теста"
   ]
  },
  {
   "cell_type": "markdown",
   "metadata": {},
   "source": [
    "#### График кумулятивной выручки по группам"
   ]
  },
  {
   "cell_type": "code",
   "execution_count": 17,
   "metadata": {},
   "outputs": [
    {
     "data": {
      "text/html": [
       "<div>\n",
       "<style scoped>\n",
       "    .dataframe tbody tr th:only-of-type {\n",
       "        vertical-align: middle;\n",
       "    }\n",
       "\n",
       "    .dataframe tbody tr th {\n",
       "        vertical-align: top;\n",
       "    }\n",
       "\n",
       "    .dataframe thead th {\n",
       "        text-align: right;\n",
       "    }\n",
       "</style>\n",
       "<table border=\"1\" class=\"dataframe\">\n",
       "  <thead>\n",
       "    <tr style=\"text-align: right;\">\n",
       "      <th></th>\n",
       "      <th>date</th>\n",
       "      <th>group</th>\n",
       "      <th>orders</th>\n",
       "      <th>buyers</th>\n",
       "      <th>revenue</th>\n",
       "      <th>visitors</th>\n",
       "    </tr>\n",
       "  </thead>\n",
       "  <tbody>\n",
       "    <tr>\n",
       "      <th>0</th>\n",
       "      <td>2019-08-01</td>\n",
       "      <td>A</td>\n",
       "      <td>23</td>\n",
       "      <td>19</td>\n",
       "      <td>142779</td>\n",
       "      <td>719</td>\n",
       "    </tr>\n",
       "    <tr>\n",
       "      <th>1</th>\n",
       "      <td>2019-08-01</td>\n",
       "      <td>B</td>\n",
       "      <td>17</td>\n",
       "      <td>17</td>\n",
       "      <td>59758</td>\n",
       "      <td>713</td>\n",
       "    </tr>\n",
       "    <tr>\n",
       "      <th>2</th>\n",
       "      <td>2019-08-02</td>\n",
       "      <td>A</td>\n",
       "      <td>42</td>\n",
       "      <td>36</td>\n",
       "      <td>234381</td>\n",
       "      <td>1338</td>\n",
       "    </tr>\n",
       "    <tr>\n",
       "      <th>3</th>\n",
       "      <td>2019-08-02</td>\n",
       "      <td>B</td>\n",
       "      <td>40</td>\n",
       "      <td>39</td>\n",
       "      <td>221801</td>\n",
       "      <td>1294</td>\n",
       "    </tr>\n",
       "    <tr>\n",
       "      <th>4</th>\n",
       "      <td>2019-08-03</td>\n",
       "      <td>A</td>\n",
       "      <td>66</td>\n",
       "      <td>60</td>\n",
       "      <td>346854</td>\n",
       "      <td>1845</td>\n",
       "    </tr>\n",
       "  </tbody>\n",
       "</table>\n",
       "</div>"
      ],
      "text/plain": [
       "        date group  orders  buyers  revenue  visitors\n",
       "0 2019-08-01     A      23      19   142779       719\n",
       "1 2019-08-01     B      17      17    59758       713\n",
       "2 2019-08-02     A      42      36   234381      1338\n",
       "3 2019-08-02     B      40      39   221801      1294\n",
       "4 2019-08-03     A      66      60   346854      1845"
      ]
     },
     "metadata": {},
     "output_type": "display_data"
    }
   ],
   "source": [
    "# создаем массив уникальных пар значений дат и групп теста\n",
    "dates_groups = orders[['date','group']].drop_duplicates()\n",
    "\n",
    "# получаем агрегированные кумулятивные по дням данные о заказах \n",
    "orders_aggregated = (\n",
    "    dates_groups.apply(lambda x: orders[np.logical_and(orders['date'] <= x['date'], \n",
    "                    orders['group'] == x['group'])].agg({'date' : 'max', \n",
    "                    'group' : 'max', 'transaction_id' : 'nunique', 'visitor_id' : 'nunique', \n",
    "                    'revenue' : 'sum'}), axis=1).sort_values(by=['date','group'])\n",
    "                    )\n",
    "# получаем агрегированные кумулятивные по дням данные о посетителях интернет-магазина \n",
    "visitors_aggregated = (\n",
    "    dates_groups.apply(lambda x: visitors[np.logical_and(visitors['date'] <= x['date'],\n",
    "                   visitors['group'] == x['group'])].agg({'date' : 'max', \n",
    "                   'group' : 'max', 'visitors' : 'sum'}), axis=1).sort_values(by=['date','group'])\n",
    ")\n",
    "# объединяем кумулятивные данные в одной таблице и присваиваем ее столбцам понятные названия\n",
    "cumulative_data = orders_aggregated.merge(visitors_aggregated, left_on=['date', 'group'], right_on=['date', 'group'])\n",
    "cumulative_data.columns = ['date', 'group', 'orders', 'buyers', 'revenue', 'visitors']\n",
    "\n",
    "display(cumulative_data.head(5)) "
   ]
  },
  {
   "cell_type": "code",
   "execution_count": 18,
   "metadata": {},
   "outputs": [
    {
     "data": {
      "image/png": "[encoded data removed]",
      "text/plain": [
       "<Figure size 1080x360 with 1 Axes>"
      ]
     },
     "metadata": {
      "needs_background": "light"
     },
     "output_type": "display_data"
    }
   ],
   "source": [
    "# датафрейм с кумулятивным количеством заказов и кумулятивной выручкой по дням в группе А\n",
    "cumulative_revenue_a = cumulative_data[cumulative_data['group']=='A'][['date','revenue', 'orders']]\n",
    "\n",
    "# датафрейм с кумулятивным количеством заказов и кумулятивной выручкой по дням в группе B\n",
    "cumulative_revenue_b = cumulative_data[cumulative_data['group']=='B'][['date','revenue', 'orders']]\n",
    "\n",
    "\n",
    "\n",
    "# Строим график выручки группы А\n",
    "plt.figure(figsize=(15, 5)) \n",
    "plt.plot(cumulative_revenue_a['date'], cumulative_revenue_a['revenue'], label='A')\n",
    "\n",
    "# Строим график выручки группы B\n",
    "plt.plot(cumulative_revenue_b['date'], cumulative_revenue_b['revenue'], label='B')\n",
    "\n",
    "\n",
    "plt.legend() \n",
    "plt.title('График кумулятивной выручки по группам')\n",
    "plt.xlabel('Дата')\n",
    "plt.ylabel('Выручка')\n",
    "plt.grid()\n",
    "plt.show()"
   ]
  },
  {
   "cell_type": "markdown",
   "metadata": {},
   "source": [
    "**Выводы**\n",
    "\n",
    "- В группе А выручка равномерно увеличивается в течение всего теста\n",
    "- График выручки группы В имеет резкий скачок. Это можно объяснить ростом числа заказов или очень дорогими заказами, совершенными в этот период. Мы проверим возможные выбросы позднее."
   ]
  },
  {
   "cell_type": "markdown",
   "metadata": {},
   "source": [
    "#### График кумулятивного среднего чека по группам"
   ]
  },
  {
   "cell_type": "code",
   "execution_count": 19,
   "metadata": {},
   "outputs": [
    {
     "data": {
      "image/png": "[encoded data removed]",
      "text/plain": [
       "<Figure size 1080x360 with 1 Axes>"
      ]
     },
     "metadata": {
      "needs_background": "light"
     },
     "output_type": "display_data"
    }
   ],
   "source": [
    "#Построим графики среднего чека по группам\n",
    "\n",
    "plt.figure(figsize=(15, 5)) \n",
    "\n",
    "plt.plot(cumulative_revenue_a['date'], cumulative_revenue_a['revenue']/cumulative_revenue_a['orders'], label='A')\n",
    "plt.plot(cumulative_revenue_b['date'], cumulative_revenue_b['revenue']/cumulative_revenue_b['orders'], label='B')\n",
    "\n",
    "plt.legend()\n",
    "plt.title('График кумулятивного среднего чека по группам')\n",
    "plt.xlabel('Дата')\n",
    "plt.ylabel('Cредний чек')\n",
    "plt.grid()\n",
    "plt.show()"
   ]
  },
  {
   "cell_type": "markdown",
   "metadata": {},
   "source": [
    "**Выводы**\n",
    "\n",
    "- График группы А неравномерно растет до середины теста, потом устанавливается на одном уровне\n",
    "- Имеется резкий скачок среднего чека по группе В - это может говорить о крупном заказе в этот период. Далее следует плавное падение."
   ]
  },
  {
   "cell_type": "markdown",
   "metadata": {},
   "source": [
    "#### График относительного изменения кумулятивного среднего чека группы B к группе A"
   ]
  },
  {
   "cell_type": "code",
   "execution_count": 20,
   "metadata": {},
   "outputs": [
    {
     "data": {
      "image/png": "[encoded data removed]",
      "text/plain": [
       "<Figure size 1080x360 with 1 Axes>"
      ]
     },
     "metadata": {
      "needs_background": "light"
     },
     "output_type": "display_data"
    }
   ],
   "source": [
    "# собираем данные в одном датафрейме\n",
    "merged_cumulative_revenue = (\n",
    "    cumulative_revenue_a.merge(cumulative_revenue_b, left_on='date', right_on='date', how='left', suffixes=['A', 'B'])\n",
    ")\n",
    "# cтроим отношение средних чеков\n",
    "plt.figure(figsize=(15, 5)) \n",
    "plt.plot(merged_cumulative_revenue['date'], (merged_cumulative_revenue['revenueB']/\n",
    "                                             merged_cumulative_revenue['ordersB'])/\n",
    "         (merged_cumulative_revenue['revenueA']/merged_cumulative_revenue['ordersA'])-1)\n",
    "\n",
    "# добавляем ось X\n",
    "plt.axhline(y=0, color='black', linestyle='--');\n",
    "plt.title('График относительного изменения кумулятивного среднего чека группы B к группе A')\n",
    "plt.xlabel('Дата')\n",
    "plt.ylabel('Отношение среднего чека')\n",
    "plt.grid()\n",
    "plt.show()"
   ]
  },
  {
   "cell_type": "markdown",
   "metadata": {},
   "source": [
    "**Выводы**\n",
    "\n",
    "- Наблюдаются аномальные скачки в нескольких точках - это говорит о выбросах в заказах в эти даты. С этими данными необходимо поработать глужбе."
   ]
  },
  {
   "cell_type": "markdown",
   "metadata": {},
   "source": [
    "#### График кумулятивного среднего количества заказов на посетителя по группам"
   ]
  },
  {
   "cell_type": "code",
   "execution_count": 21,
   "metadata": {},
   "outputs": [
    {
     "data": {
      "image/png": "[encoded data removed]",
      "text/plain": [
       "<Figure size 1080x360 with 1 Axes>"
      ]
     },
     "metadata": {
      "needs_background": "light"
     },
     "output_type": "display_data"
    }
   ],
   "source": [
    "# считаем среднее количество заказов на посетителя\n",
    "cumulative_data['conversion'] = cumulative_data['orders']/cumulative_data['visitors']\n",
    "\n",
    "# отделяем данные по группе A\n",
    "cumulative_data_a = cumulative_data[cumulative_data['group']=='A']\n",
    "\n",
    "# отделяем данные по группе B\n",
    "cumulative_data_b = cumulative_data[cumulative_data['group']=='B']\n",
    "\n",
    "# строим графики\n",
    "plt.figure(figsize=(15, 5))\n",
    "plt.plot(cumulative_data_a['date'], cumulative_data_a['conversion'], label='A')\n",
    "plt.plot(cumulative_data_b['date'], cumulative_data_b['conversion'], label='B')\n",
    "plt.legend()\n",
    "plt.title('График  кумулятивного среднего количества заказов на посетителя по группам')\n",
    "plt.xlabel('Дата')\n",
    "plt.ylabel('Cреднеее количество заказов на посетителя')\n",
    "plt.grid()\n",
    "plt.show()"
   ]
  },
  {
   "cell_type": "markdown",
   "metadata": {},
   "source": [
    "**Выводы**\n",
    "\n",
    "- Имеются резкие скачки в количестве заказов на посетителя в начале теста, позднее оба графика стабилизируются. \n",
    "- Показатели группы В стабильно выше группы А."
   ]
  },
  {
   "cell_type": "markdown",
   "metadata": {},
   "source": [
    "#### График относительного изменения кумулятивного среднего количества заказов на посетителя группы B к группе A"
   ]
  },
  {
   "cell_type": "code",
   "execution_count": 22,
   "metadata": {},
   "outputs": [
    {
     "data": {
      "image/png": "[encoded data removed]",
      "text/plain": [
       "<Figure size 1080x360 with 1 Axes>"
      ]
     },
     "metadata": {
      "needs_background": "light"
     },
     "output_type": "display_data"
    }
   ],
   "source": [
    "merged_cumulative_conversions = (\n",
    "    cumulative_data_a[['date','conversion']].merge(cumulative_data_b[['date','conversion']], \n",
    "                                                   left_on='date', right_on='date', how='left', suffixes=['A', 'B'])\n",
    ")\n",
    "plt.figure(figsize=(15, 5))\n",
    "plt.plot(merged_cumulative_conversions['date'], \n",
    "         merged_cumulative_conversions['conversionB']/merged_cumulative_conversions['conversionA']-1) \n",
    "         \n",
    "plt.axhline(y=0, color='black', linestyle='--')\n",
    "plt.axhline(y=0.1, color='grey', linestyle='--')\n",
    "plt.title('График относительного изменения кумулятивного среднего количества заказов на посетителя группы B к группе A')\n",
    "plt.xlabel('Дата')\n",
    "plt.ylabel('Отношение изменения среднего количества заказов')\n",
    "plt.grid()\n",
    "plt.show()"
   ]
  },
  {
   "cell_type": "markdown",
   "metadata": {},
   "source": [
    "**Выводы**\n",
    "\n",
    "- Имеются резкие скачки в начале теста.\n",
    "- Уже после первой недели теста, показатели группы В остаются на стабильном уровне, с приростом более 10% относительно группы А.\n",
    "- Стоит проанализировать аномалии, возможно они повлияют на результаты теста."
   ]
  },
  {
   "cell_type": "markdown",
   "metadata": {},
   "source": [
    "#### Точечный график количества заказов по пользователям. Граница для определения аномальных пользователей"
   ]
  },
  {
   "cell_type": "code",
   "execution_count": 23,
   "metadata": {},
   "outputs": [
    {
     "data": {
      "text/html": [
       "<div>\n",
       "<style scoped>\n",
       "    .dataframe tbody tr th:only-of-type {\n",
       "        vertical-align: middle;\n",
       "    }\n",
       "\n",
       "    .dataframe tbody tr th {\n",
       "        vertical-align: top;\n",
       "    }\n",
       "\n",
       "    .dataframe thead th {\n",
       "        text-align: right;\n",
       "    }\n",
       "</style>\n",
       "<table border=\"1\" class=\"dataframe\">\n",
       "  <thead>\n",
       "    <tr style=\"text-align: right;\">\n",
       "      <th></th>\n",
       "      <th>visitor_id</th>\n",
       "      <th>orders</th>\n",
       "    </tr>\n",
       "  </thead>\n",
       "  <tbody>\n",
       "    <tr>\n",
       "      <th>908</th>\n",
       "      <td>3967698036</td>\n",
       "      <td>3</td>\n",
       "    </tr>\n",
       "    <tr>\n",
       "      <th>55</th>\n",
       "      <td>249864742</td>\n",
       "      <td>3</td>\n",
       "    </tr>\n",
       "    <tr>\n",
       "      <th>478</th>\n",
       "      <td>2108163459</td>\n",
       "      <td>3</td>\n",
       "    </tr>\n",
       "    <tr>\n",
       "      <th>687</th>\n",
       "      <td>2988190573</td>\n",
       "      <td>3</td>\n",
       "    </tr>\n",
       "    <tr>\n",
       "      <th>890</th>\n",
       "      <td>3908431265</td>\n",
       "      <td>3</td>\n",
       "    </tr>\n",
       "    <tr>\n",
       "      <th>138</th>\n",
       "      <td>611059232</td>\n",
       "      <td>3</td>\n",
       "    </tr>\n",
       "    <tr>\n",
       "      <th>632</th>\n",
       "      <td>2742574263</td>\n",
       "      <td>3</td>\n",
       "    </tr>\n",
       "    <tr>\n",
       "      <th>157</th>\n",
       "      <td>678354126</td>\n",
       "      <td>2</td>\n",
       "    </tr>\n",
       "    <tr>\n",
       "      <th>323</th>\n",
       "      <td>1404560065</td>\n",
       "      <td>2</td>\n",
       "    </tr>\n",
       "    <tr>\n",
       "      <th>452</th>\n",
       "      <td>1985475298</td>\n",
       "      <td>2</td>\n",
       "    </tr>\n",
       "  </tbody>\n",
       "</table>\n",
       "</div>"
      ],
      "text/plain": [
       "     visitor_id  orders\n",
       "908  3967698036       3\n",
       "55    249864742       3\n",
       "478  2108163459       3\n",
       "687  2988190573       3\n",
       "890  3908431265       3\n",
       "138   611059232       3\n",
       "632  2742574263       3\n",
       "157   678354126       2\n",
       "323  1404560065       2\n",
       "452  1985475298       2"
      ]
     },
     "metadata": {},
     "output_type": "display_data"
    }
   ],
   "source": [
    "#Посмотрим на максимальное количество заказов по пользователям\n",
    "orders_by_users = orders.groupby('visitor_id', as_index=False).agg({'transaction_id': 'nunique'})\n",
    "\n",
    "orders_by_users.columns = ['visitor_id', 'orders']\n",
    "\n",
    "display(orders_by_users.sort_values(by='orders', ascending=False).head(10)) "
   ]
  },
  {
   "cell_type": "code",
   "execution_count": 24,
   "metadata": {},
   "outputs": [
    {
     "data": {
      "image/png": "[encoded data removed]",
      "text/plain": [
       "<Figure size 1080x360 with 1 Axes>"
      ]
     },
     "metadata": {
      "needs_background": "light"
     },
     "output_type": "display_data"
    }
   ],
   "source": [
    "#Построим график рассеяния количества заказов на пользователя\n",
    "x_values = pd.Series(range(0,len(orders_by_users)))\n",
    "plt.figure(figsize=(15, 5))\n",
    "plt.scatter(x_values, orders_by_users['orders'], alpha=0.5) \n",
    "plt.title('Точечный график количества заказов')\n",
    "plt.xlabel('Количество заказов')\n",
    "plt.ylabel('Заказы на пользователя')\n",
    "plt.grid()\n",
    "plt.show()"
   ]
  },
  {
   "cell_type": "code",
   "execution_count": 25,
   "metadata": {},
   "outputs": [
    {
     "data": {
      "text/plain": [
       "'В выборке не больше 5% пользователей делали заказов более чем: '"
      ]
     },
     "metadata": {},
     "output_type": "display_data"
    },
    {
     "data": {
      "text/plain": [
       "1.0"
      ]
     },
     "metadata": {},
     "output_type": "display_data"
    },
    {
     "data": {
      "text/plain": [
       "'В выборке не больше 1% пользователей делали заказов более чем: '"
      ]
     },
     "metadata": {},
     "output_type": "display_data"
    },
    {
     "data": {
      "text/plain": [
       "2.0"
      ]
     },
     "metadata": {},
     "output_type": "display_data"
    }
   ],
   "source": [
    "#Выберем границу для определения аномальных заказов\n",
    "display('В выборке не больше 5% пользователей делали заказов более чем: ', np.percentile(orders_by_users['orders'], 95))\n",
    "display('В выборке не больше 1% пользователей делали заказов более чем: ', np.percentile(orders_by_users['orders'], 99))"
   ]
  },
  {
   "cell_type": "markdown",
   "metadata": {},
   "source": [
    "**Выводы**\n",
    "\n",
    "- Подавляющее большинство пользователей совершает только один заказ\n",
    "- Не более 5% пользователей совершают больше 1 заказа. \n",
    "- Не более 1% пользователей совершают больше 2 заказов.\n",
    "- График рассеяния также наглядно показывает, сколь незначительно число пользователей, совершающих более 1 заказа.\n",
    "- Определим границу для аномального количества заказов на уровне 95-го перцентиля - 1 заказ на пользователя."
   ]
  },
  {
   "cell_type": "markdown",
   "metadata": {},
   "source": [
    "#### Точечный график стоимостей заказов. Граница для определения аномальных заказов"
   ]
  },
  {
   "cell_type": "code",
   "execution_count": 26,
   "metadata": {},
   "outputs": [
    {
     "data": {
      "text/html": [
       "<div>\n",
       "<style scoped>\n",
       "    .dataframe tbody tr th:only-of-type {\n",
       "        vertical-align: middle;\n",
       "    }\n",
       "\n",
       "    .dataframe tbody tr th {\n",
       "        vertical-align: top;\n",
       "    }\n",
       "\n",
       "    .dataframe thead th {\n",
       "        text-align: right;\n",
       "    }\n",
       "</style>\n",
       "<table border=\"1\" class=\"dataframe\">\n",
       "  <thead>\n",
       "    <tr style=\"text-align: right;\">\n",
       "      <th></th>\n",
       "      <th>transaction_id</th>\n",
       "      <th>visitor_id</th>\n",
       "      <th>date</th>\n",
       "      <th>revenue</th>\n",
       "      <th>group</th>\n",
       "    </tr>\n",
       "  </thead>\n",
       "  <tbody>\n",
       "    <tr>\n",
       "      <th>425</th>\n",
       "      <td>590470918</td>\n",
       "      <td>1920142716</td>\n",
       "      <td>2019-08-19</td>\n",
       "      <td>1294500</td>\n",
       "      <td>B</td>\n",
       "    </tr>\n",
       "    <tr>\n",
       "      <th>1196</th>\n",
       "      <td>3936777065</td>\n",
       "      <td>2108080724</td>\n",
       "      <td>2019-08-15</td>\n",
       "      <td>202740</td>\n",
       "      <td>B</td>\n",
       "    </tr>\n",
       "    <tr>\n",
       "      <th>1136</th>\n",
       "      <td>666610489</td>\n",
       "      <td>1307669133</td>\n",
       "      <td>2019-08-13</td>\n",
       "      <td>92550</td>\n",
       "      <td>A</td>\n",
       "    </tr>\n",
       "    <tr>\n",
       "      <th>744</th>\n",
       "      <td>3668308183</td>\n",
       "      <td>888512513</td>\n",
       "      <td>2019-08-27</td>\n",
       "      <td>86620</td>\n",
       "      <td>B</td>\n",
       "    </tr>\n",
       "    <tr>\n",
       "      <th>743</th>\n",
       "      <td>3603576309</td>\n",
       "      <td>4133034833</td>\n",
       "      <td>2019-08-09</td>\n",
       "      <td>67990</td>\n",
       "      <td>A</td>\n",
       "    </tr>\n",
       "    <tr>\n",
       "      <th>1103</th>\n",
       "      <td>1348774318</td>\n",
       "      <td>1164614297</td>\n",
       "      <td>2019-08-12</td>\n",
       "      <td>66350</td>\n",
       "      <td>A</td>\n",
       "    </tr>\n",
       "    <tr>\n",
       "      <th>1099</th>\n",
       "      <td>316924019</td>\n",
       "      <td>148427295</td>\n",
       "      <td>2019-08-12</td>\n",
       "      <td>65710</td>\n",
       "      <td>A</td>\n",
       "    </tr>\n",
       "    <tr>\n",
       "      <th>949</th>\n",
       "      <td>1347999392</td>\n",
       "      <td>887908475</td>\n",
       "      <td>2019-08-21</td>\n",
       "      <td>60450</td>\n",
       "      <td>A</td>\n",
       "    </tr>\n",
       "    <tr>\n",
       "      <th>940</th>\n",
       "      <td>2420050534</td>\n",
       "      <td>4003628586</td>\n",
       "      <td>2019-08-08</td>\n",
       "      <td>58550</td>\n",
       "      <td>B</td>\n",
       "    </tr>\n",
       "    <tr>\n",
       "      <th>131</th>\n",
       "      <td>3163614039</td>\n",
       "      <td>2254586615</td>\n",
       "      <td>2019-08-22</td>\n",
       "      <td>53904</td>\n",
       "      <td>A</td>\n",
       "    </tr>\n",
       "  </tbody>\n",
       "</table>\n",
       "</div>"
      ],
      "text/plain": [
       "      transaction_id  visitor_id       date  revenue group\n",
       "425        590470918  1920142716 2019-08-19  1294500     B\n",
       "1196      3936777065  2108080724 2019-08-15   202740     B\n",
       "1136       666610489  1307669133 2019-08-13    92550     A\n",
       "744       3668308183   888512513 2019-08-27    86620     B\n",
       "743       3603576309  4133034833 2019-08-09    67990     A\n",
       "1103      1348774318  1164614297 2019-08-12    66350     A\n",
       "1099       316924019   148427295 2019-08-12    65710     A\n",
       "949       1347999392   887908475 2019-08-21    60450     A\n",
       "940       2420050534  4003628586 2019-08-08    58550     B\n",
       "131       3163614039  2254586615 2019-08-22    53904     A"
      ]
     },
     "execution_count": 26,
     "metadata": {},
     "output_type": "execute_result"
    }
   ],
   "source": [
    "#Проверим, что могло быть причиной всплесков на графиках, посмотрим на максимальные суммы заказов\n",
    "orders.sort_values('revenue', ascending=False).head(10)"
   ]
  },
  {
   "cell_type": "code",
   "execution_count": 27,
   "metadata": {},
   "outputs": [
    {
     "data": {
      "image/png": "[encoded data removed]",
      "text/plain": [
       "<Figure size 1080x360 with 1 Axes>"
      ]
     },
     "metadata": {
      "needs_background": "light"
     },
     "output_type": "display_data"
    }
   ],
   "source": [
    "#Построим график рассеяния стоимостей заказов\n",
    "x_values = pd.Series(range(0,len(orders['revenue'])))\n",
    "\n",
    "plt.figure(figsize=(15, 5))\n",
    "plt.scatter(x_values, orders['revenue'], alpha=0.5) \n",
    "plt.title('Точечный график стоимостей заказов')\n",
    "plt.xlabel('Количество заказов')\n",
    "plt.ylabel('Стоимость заказа')\n",
    "plt.grid()\n",
    "plt.show()"
   ]
  },
  {
   "cell_type": "code",
   "execution_count": 28,
   "metadata": {},
   "outputs": [
    {
     "data": {
      "text/plain": [
       "'В выборке не более 5% заказов дороже: '"
      ]
     },
     "metadata": {},
     "output_type": "display_data"
    },
    {
     "data": {
      "text/plain": [
       "26785.0"
      ]
     },
     "metadata": {},
     "output_type": "display_data"
    },
    {
     "data": {
      "text/plain": [
       "'В выборке не более 1% заказов дороже: '"
      ]
     },
     "metadata": {},
     "output_type": "display_data"
    },
    {
     "data": {
      "text/plain": [
       "53904.0"
      ]
     },
     "metadata": {},
     "output_type": "display_data"
    },
    {
     "data": {
      "text/plain": [
       "'Медианная стоимость заказов: '"
      ]
     },
     "metadata": {},
     "output_type": "display_data"
    },
    {
     "data": {
      "text/plain": [
       "2955.0"
      ]
     },
     "metadata": {},
     "output_type": "display_data"
    }
   ],
   "source": [
    "#Выберем границу для определения аномальных заказов\n",
    "display('В выборке не более 5% заказов дороже: ', np.percentile(orders['revenue'], 95))\n",
    "display('В выборке не более 1% заказов дороже: ', np.percentile(orders['revenue'], 99))\n",
    "display('Медианная стоимость заказов: ',orders['revenue'].median())"
   ]
  },
  {
   "cell_type": "markdown",
   "metadata": {},
   "source": [
    "**Выводы**\n",
    "\n",
    "- Подтвердились предположения об аномалиях в стоимости заказов - два крупнейших заказа группы В на сумму 1,3 млн и 0,2 млн - сильно выбиваются из всех прочих значений. Все прочие заказы не превышают 92550 руб.\n",
    "- Не более 5% всех заказов превышают порог в 26785 руб. \n",
    "- Не более 1% всех заказов превышают порог в 53904 руб.\n",
    "- График рассеяния наглядно показывает, что почти все значения находятся на уровне ниже 5000 руб. Расчет медианной стоимости заказов дает точный ответ - 2955 руб.\n",
    "- Определим границу для аномальных по стоимости заказов на уровне 95-го перцентиля - 26785 руб."
   ]
  },
  {
   "cell_type": "markdown",
   "metadata": {},
   "source": [
    "#### Расчет статистической значимости различий между группами по «сырым» данным"
   ]
  },
  {
   "cell_type": "markdown",
   "metadata": {},
   "source": [
    "В данных есть выбросы и мы вычислили границы для их определения. Подготовим данные для дальнейших расчетов."
   ]
  },
  {
   "cell_type": "code",
   "execution_count": 29,
   "metadata": {},
   "outputs": [
    {
     "data": {
      "text/html": [
       "<div>\n",
       "<style scoped>\n",
       "    .dataframe tbody tr th:only-of-type {\n",
       "        vertical-align: middle;\n",
       "    }\n",
       "\n",
       "    .dataframe tbody tr th {\n",
       "        vertical-align: top;\n",
       "    }\n",
       "\n",
       "    .dataframe thead th {\n",
       "        text-align: right;\n",
       "    }\n",
       "</style>\n",
       "<table border=\"1\" class=\"dataframe\">\n",
       "  <thead>\n",
       "    <tr style=\"text-align: right;\">\n",
       "      <th></th>\n",
       "      <th>date</th>\n",
       "      <th>orders_per_date_a</th>\n",
       "      <th>revenue_per_date_a</th>\n",
       "      <th>orders_per_date_b</th>\n",
       "      <th>revenue_per_date_b</th>\n",
       "      <th>orders_cummulative_a</th>\n",
       "      <th>revenue_cummulative_a</th>\n",
       "      <th>orders_cummulative_b</th>\n",
       "      <th>revenue_cummulative_b</th>\n",
       "      <th>visitors_per_date_a</th>\n",
       "      <th>visitors_per_date_b</th>\n",
       "      <th>visitors_cummulative_a</th>\n",
       "      <th>visitors_cummulative_b</th>\n",
       "    </tr>\n",
       "  </thead>\n",
       "  <tbody>\n",
       "    <tr>\n",
       "      <th>0</th>\n",
       "      <td>2019-08-01</td>\n",
       "      <td>23</td>\n",
       "      <td>142779</td>\n",
       "      <td>17</td>\n",
       "      <td>59758</td>\n",
       "      <td>23</td>\n",
       "      <td>142779</td>\n",
       "      <td>17</td>\n",
       "      <td>59758</td>\n",
       "      <td>719</td>\n",
       "      <td>713</td>\n",
       "      <td>719</td>\n",
       "      <td>713</td>\n",
       "    </tr>\n",
       "    <tr>\n",
       "      <th>1</th>\n",
       "      <td>2019-08-02</td>\n",
       "      <td>19</td>\n",
       "      <td>91602</td>\n",
       "      <td>23</td>\n",
       "      <td>162043</td>\n",
       "      <td>42</td>\n",
       "      <td>234381</td>\n",
       "      <td>40</td>\n",
       "      <td>221801</td>\n",
       "      <td>619</td>\n",
       "      <td>581</td>\n",
       "      <td>1338</td>\n",
       "      <td>1294</td>\n",
       "    </tr>\n",
       "    <tr>\n",
       "      <th>2</th>\n",
       "      <td>2019-08-03</td>\n",
       "      <td>24</td>\n",
       "      <td>112473</td>\n",
       "      <td>14</td>\n",
       "      <td>67049</td>\n",
       "      <td>66</td>\n",
       "      <td>346854</td>\n",
       "      <td>54</td>\n",
       "      <td>288850</td>\n",
       "      <td>507</td>\n",
       "      <td>509</td>\n",
       "      <td>1845</td>\n",
       "      <td>1803</td>\n",
       "    </tr>\n",
       "    <tr>\n",
       "      <th>3</th>\n",
       "      <td>2019-08-04</td>\n",
       "      <td>11</td>\n",
       "      <td>41176</td>\n",
       "      <td>14</td>\n",
       "      <td>96890</td>\n",
       "      <td>77</td>\n",
       "      <td>388030</td>\n",
       "      <td>68</td>\n",
       "      <td>385740</td>\n",
       "      <td>717</td>\n",
       "      <td>770</td>\n",
       "      <td>2562</td>\n",
       "      <td>2573</td>\n",
       "    </tr>\n",
       "    <tr>\n",
       "      <th>4</th>\n",
       "      <td>2019-08-05</td>\n",
       "      <td>22</td>\n",
       "      <td>86383</td>\n",
       "      <td>21</td>\n",
       "      <td>89908</td>\n",
       "      <td>99</td>\n",
       "      <td>474413</td>\n",
       "      <td>89</td>\n",
       "      <td>475648</td>\n",
       "      <td>756</td>\n",
       "      <td>707</td>\n",
       "      <td>3318</td>\n",
       "      <td>3280</td>\n",
       "    </tr>\n",
       "  </tbody>\n",
       "</table>\n",
       "</div>"
      ],
      "text/plain": [
       "        date  orders_per_date_a  revenue_per_date_a  orders_per_date_b  \\\n",
       "0 2019-08-01                 23              142779                 17   \n",
       "1 2019-08-02                 19               91602                 23   \n",
       "2 2019-08-03                 24              112473                 14   \n",
       "3 2019-08-04                 11               41176                 14   \n",
       "4 2019-08-05                 22               86383                 21   \n",
       "\n",
       "   revenue_per_date_b  orders_cummulative_a  revenue_cummulative_a  \\\n",
       "0               59758                    23                 142779   \n",
       "1              162043                    42                 234381   \n",
       "2               67049                    66                 346854   \n",
       "3               96890                    77                 388030   \n",
       "4               89908                    99                 474413   \n",
       "\n",
       "   orders_cummulative_b  revenue_cummulative_b  visitors_per_date_a  \\\n",
       "0                    17                  59758                  719   \n",
       "1                    40                 221801                  619   \n",
       "2                    54                 288850                  507   \n",
       "3                    68                 385740                  717   \n",
       "4                    89                 475648                  756   \n",
       "\n",
       "   visitors_per_date_b  visitors_cummulative_a  visitors_cummulative_b  \n",
       "0                  713                     719                     713  \n",
       "1                  581                    1338                    1294  \n",
       "2                  509                    1845                    1803  \n",
       "3                  770                    2562                    2573  \n",
       "4                  707                    3318                    3280  "
      ]
     },
     "metadata": {},
     "output_type": "display_data"
    }
   ],
   "source": [
    "#Рассчитаем количество пользователей в выбранную дату в группе A\n",
    "visitors_a_daily = visitors[visitors['group'] == 'A'][['date', 'visitors']]\n",
    "visitors_a_daily.columns = ['date', 'visitors_per_date_a']\n",
    "\n",
    "#Рассчитаем количество пользователей до выбранной даты включительно в группе A\n",
    "visitors_a_cummulative = visitors_a_daily.apply(\n",
    "    lambda x: visitors_a_daily[visitors_a_daily['date'] <= x['date']].agg(\n",
    "        {'date': 'max', 'visitors_per_date_a': 'sum'}\n",
    "    ),\n",
    "    axis=1,\n",
    ")\n",
    "visitors_a_cummulative.columns = ['date', 'visitors_cummulative_a']\n",
    "\n",
    "#Рассчитаем количество пользователей в выбранную дату в группе В\n",
    "\n",
    "visitors_b_daily = visitors[visitors['group'] == 'B'][['date', 'visitors']]\n",
    "visitors_b_daily.columns = ['date', 'visitors_per_date_b']\n",
    "\n",
    "#Рассчитаем количество пользователей до выбранной даты включительно в группе В\n",
    "visitors_b_cummulative = visitors_b_daily.apply(\n",
    "    lambda x: visitors_b_daily[visitors_b_daily['date'] <= x['date']].agg(\n",
    "        {'date': 'max', 'visitors_per_date_b': 'sum'}\n",
    "    ),\n",
    "    axis=1,\n",
    ")\n",
    "visitors_b_cummulative.columns = ['date', 'visitors_cummulative_b']\n",
    "\n",
    "#Рассчитаем для группы А: orders_per_date_a — количество заказов в выбранную дату в группе A;\n",
    "#revenue_per_date_a — суммарная выручка в выбранную дату в группе A;\n",
    "#orders_cummulative_a — суммарное число заказов до выбранной даты включительно в группе A;\n",
    "#revenue_cummulative_a — суммарная выручка до выбранной даты включительно в группе A;\n",
    "\n",
    "orders_a_daily = (\n",
    "    orders[orders['group'] == 'A'][['date', 'transaction_id', 'visitor_id', 'revenue']]\n",
    "    .groupby('date', as_index=False)\n",
    "    .agg({'transaction_id': pd.Series.nunique, 'revenue': 'sum'})\n",
    ")\n",
    "orders_a_daily.columns = ['date', 'orders_per_date_a', 'revenue_per_date_a']\n",
    "\n",
    "orders_a_cummulative = orders_a_daily.apply(\n",
    "    lambda x: orders_a_daily[orders_a_daily['date'] <= x['date']].agg(\n",
    "        {'date': 'max', 'orders_per_date_a': 'sum', 'revenue_per_date_a': 'sum'}\n",
    "    ),\n",
    "    axis=1,\n",
    ").sort_values(by=['date'])\n",
    "\n",
    "orders_a_cummulative.columns = [\n",
    "    'date',\n",
    "    'orders_cummulative_a',\n",
    "    'revenue_cummulative_a',\n",
    "]\n",
    "\n",
    "#Аналогично для группы В:\n",
    "\n",
    "orders_b_daily = (\n",
    "    orders[orders['group'] == 'B'][['date', 'transaction_id', 'visitor_id', 'revenue']]\n",
    "    .groupby('date', as_index=False)\n",
    "    .agg({'transaction_id': pd.Series.nunique, 'revenue': 'sum'})\n",
    ")\n",
    "orders_b_daily.columns = ['date', 'orders_per_date_b', 'revenue_per_date_b']\n",
    "\n",
    "orders_b_cummulative = orders_b_daily.apply(\n",
    "    lambda x: orders_b_daily[orders_b_daily['date'] <= x['date']].agg(\n",
    "        {'date': 'max', 'orders_per_date_b': 'sum', 'revenue_per_date_b': 'sum'}\n",
    "    ),\n",
    "    axis=1,\n",
    ").sort_values(by=['date'])\n",
    "orders_b_cummulative.columns = [\n",
    "    'date',\n",
    "    'orders_cummulative_b',\n",
    "    'revenue_cummulative_b',\n",
    "]\n",
    "\n",
    "#Объединим в общую таблицу\n",
    "\n",
    "data = (\n",
    "    orders_a_daily.merge(\n",
    "        orders_b_daily, left_on='date', right_on='date', how='left'\n",
    "    )\n",
    "    .merge(orders_a_cummulative, left_on='date', right_on='date', how='left')\n",
    "    .merge(orders_b_cummulative, left_on='date', right_on='date', how='left')\n",
    "    .merge(visitors_a_daily, left_on='date', right_on='date', how='left')\n",
    "    .merge(visitors_b_daily, left_on='date', right_on='date', how='left')\n",
    "    .merge(visitors_a_cummulative, left_on='date', right_on='date', how='left')\n",
    "    .merge(visitors_b_cummulative, left_on='date', right_on='date', how='left')\n",
    ")\n",
    "\n",
    "display(data.head(5)) "
   ]
  },
  {
   "cell_type": "markdown",
   "metadata": {},
   "source": [
    "#### Статистическая значимость различий в среднем количестве заказов на посетителя между группами по «сырым» данным"
   ]
  },
  {
   "cell_type": "markdown",
   "metadata": {},
   "source": [
    "Сформулируем гипотезы:\n",
    "\n",
    "**Нулевая Н0**: различий в среднем количестве заказов между группами нет \n",
    "\n",
    "**Альтернативная Н1**: различия в среднем между группами есть\n",
    "\n",
    "Уровень значимости P-value = 0,05"
   ]
  },
  {
   "cell_type": "code",
   "execution_count": 30,
   "metadata": {},
   "outputs": [
    {
     "data": {
      "text/plain": [
       "'p-value: 0.011'"
      ]
     },
     "metadata": {},
     "output_type": "display_data"
    },
    {
     "data": {
      "text/plain": [
       "'Отношение группы В к А: 0.160'"
      ]
     },
     "metadata": {},
     "output_type": "display_data"
    }
   ],
   "source": [
    "#Посчитаем статистическую значимость различия в среднем количестве заказов между группами\n",
    "#Создадим переменные для двух групп со столбцами ['visitor_id', 'orders']. \n",
    "#В них для пользователей, которые заказывали хотя бы 1 раз, укажем число совершённых заказов\n",
    "\n",
    "orders_by_users_a = (\n",
    "    orders[orders['group'] == 'A']\n",
    "    .groupby('visitor_id', as_index=False)\n",
    "    .agg({'transaction_id': pd.Series.nunique})\n",
    ")\n",
    "orders_by_users_a.columns = ['visitor_id', 'orders']\n",
    "\n",
    "orders_by_users_b = (\n",
    "    orders[orders['group'] == 'B']\n",
    "    .groupby('visitor_id', as_index=False)\n",
    "    .agg({'transaction_id': pd.Series.nunique})\n",
    ")\n",
    "orders_by_users_b.columns = ['visitor_id', 'orders']\n",
    "\n",
    "#Объявим переменные sample_a и sample_b, в которых пользователям из разных групп будет соответствовать количество заказов. \n",
    "#Тем, кто ничего не заказал, будут соответствовать нули. Это нужно, чтобы подготовить выборки к проверке критерием Манна-Уитни.\n",
    "\n",
    "sample_a = (\n",
    "    pd.concat([orders_by_users_a['orders'],pd.Series(0, index=np.arange(data['visitors_per_date_a'].sum() - \n",
    "            len(orders_by_users_a['orders'])), name='orders')],axis=0)\n",
    ")\n",
    "sample_b = (\n",
    "    pd.concat([orders_by_users_b['orders'],pd.Series(0, index=np.arange(data['visitors_per_date_b'].sum() -\n",
    "            len(orders_by_users_b['orders'])), name='orders')],axis=0)\n",
    ")\n",
    "\n",
    "#Проводим проверку критерием Манна-Уитни\n",
    "\n",
    "display('p-value: {0:.3f}'.format(stats.mannwhitneyu(sample_a, sample_b)[1]))\n",
    "\n",
    "display('Отношение группы В к А: {0:.3f}'.format(sample_b.mean() / sample_a.mean() - 1))"
   ]
  },
  {
   "cell_type": "markdown",
   "metadata": {},
   "source": [
    "**Выводы**\n",
    "\n",
    "- Полученное значение 0,011 меньше уровня значимости P-value,следовательно мы отвергаем гипотезу Н0 о том, что различий в среднем количестве заказов между группами нет:\n",
    "\n",
    "**По «сырым» данным есть статистически значимые различия в среднем числе заказов групп A и B**\n",
    "\n",
    "- Относительный выигрыш группы B равен 16%."
   ]
  },
  {
   "cell_type": "markdown",
   "metadata": {},
   "source": [
    "#### Статистическая значимость различий в среднем чеке заказа между группами по «сырым» данным"
   ]
  },
  {
   "cell_type": "markdown",
   "metadata": {},
   "source": [
    "Теперь проверим статистическую значимость различий в среднем чеке между группами. \n",
    "Сформулируем гипотезы:\n",
    "\n",
    "**Нулевая Н0**: различий в среднем чеке между группами нет \n",
    "\n",
    "**Альтернативная Н1**: различия в среднем чеке между группами есть\n",
    "\n",
    "Уровень значимости P-value = 0,05"
   ]
  },
  {
   "cell_type": "code",
   "execution_count": 31,
   "metadata": {},
   "outputs": [
    {
     "data": {
      "text/plain": [
       "'p-value: 0.829'"
      ]
     },
     "metadata": {},
     "output_type": "display_data"
    },
    {
     "data": {
      "text/plain": [
       "'Отношение группы В к А: 0.287'"
      ]
     },
     "metadata": {},
     "output_type": "display_data"
    }
   ],
   "source": [
    "#Передадим критерию mannwhitneyu() данные о выручке с заказов\n",
    "display('p-value: {0:.3f}'.format(stats.mannwhitneyu(orders[orders['group']=='A']['revenue'], orders[orders['group']=='B']['revenue'])[1]))\n",
    "\n",
    "#Найдём относительные различия в среднем чеке между группами\n",
    "display('Отношение группы В к А: {0:.3f}'.format(orders[orders['group']=='B']['revenue'].mean()/orders[orders['group']=='A']['revenue'].mean()-1))"
   ]
  },
  {
   "cell_type": "markdown",
   "metadata": {},
   "source": [
    "**Выводы**\n",
    "\n",
    "- Полученное значение 0,829 значительно больше уровня значимости P-value,следовательно нет оснований отвергать гипотезу Н0 о том, что различий в среднем чеке между группами нет.\n",
    "\n",
    "**По «сырым» данным нет статистически значимых различий в среднем чеке заказа групп A и B**\n",
    "\n",
    "- Относительный выигрыш по среднему чеку группы B равен 28,7%. Эта разница может быть объяснена аномалиями - дорогими заказами, выбивающимися из средних значений. Ранее, на графике кумулятивного среднего чека мы видели резкий всплекс, а потом плавное падение в группе В. Мы проверим наше предположение о выбросах, очистив данные от аномалий позднее. "
   ]
  },
  {
   "cell_type": "markdown",
   "metadata": {},
   "source": [
    "#### Расчет статистической значимости различий между группами по  «очищенным» данным"
   ]
  },
  {
   "cell_type": "markdown",
   "metadata": {},
   "source": [
    "Проверим, как повлияет на результат очистка данных от аномальных значений.\n",
    "\n",
    "Составим список аномальных пользователей по выбранным ранее критериям: \n",
    "- Пользователь совершил более 1 заказа \n",
    "\n",
    "и/или\n",
    "- Пользователь совершил заказ дороже 26785 рублей. "
   ]
  },
  {
   "cell_type": "code",
   "execution_count": 32,
   "metadata": {},
   "outputs": [
    {
     "data": {
      "text/plain": [
       "568     113298937\n",
       "1099    148427295\n",
       "Name: visitor_id, dtype: int64"
      ]
     },
     "metadata": {},
     "output_type": "display_data"
    },
    {
     "data": {
      "text/plain": [
       "'Всего аномальных пользователей: '"
      ]
     },
     "metadata": {},
     "output_type": "display_data"
    },
    {
     "data": {
      "text/plain": [
       "86"
      ]
     },
     "metadata": {},
     "output_type": "display_data"
    }
   ],
   "source": [
    "#Отбираем пользователей с количеством заказов более 1\n",
    "users_with_many_orders = pd.concat(\n",
    "    [\n",
    "        orders_by_users_a[orders_by_users_a['orders'] > 1]['visitor_id'],\n",
    "        orders_by_users_b[orders_by_users_b['orders'] > 1]['visitor_id'],\n",
    "    ],\n",
    "    axis=0,\n",
    ")\n",
    "\n",
    "#Отбираем пользователей с заказами стоимостью более 26785 рублей\n",
    "users_with_expensive_orders = orders[orders['revenue'] > 26785]['visitor_id']\n",
    "\n",
    "#Создаем общий список аномальных пользователей\n",
    "abnormal_users = (\n",
    "    pd.concat([users_with_many_orders, users_with_expensive_orders], axis=0)\n",
    "    .drop_duplicates()\n",
    "    .sort_values()\n",
    ")\n",
    "\n",
    "#Проверяем, считаем количество\n",
    "display(abnormal_users.head(2))\n",
    "display('Всего аномальных пользователей: ', abnormal_users.shape[0]) "
   ]
  },
  {
   "cell_type": "markdown",
   "metadata": {},
   "source": [
    "#### Статистическая значимость различий в среднем количестве заказов на посетителя между группами по «очищенным» данным"
   ]
  },
  {
   "cell_type": "markdown",
   "metadata": {},
   "source": [
    "Проверим, как 86 аномальных пользователей повлияли на результаты теста.\n",
    "\n",
    "Сформулируем гипотезы:\n",
    "\n",
    "**Нулевая Н0**: различий в среднем количестве заказов на посетителя между группами по «очищенным» данным нет \n",
    "\n",
    "**Альтернативная Н1**: различия в среднем количестве заказов на посетителя между группами по «очищенным» данным есть\n",
    "\n",
    "Уровень значимости P-value = 0,05"
   ]
  },
  {
   "cell_type": "code",
   "execution_count": 33,
   "metadata": {},
   "outputs": [
    {
     "data": {
      "text/plain": [
       "'p-value: 0.016'"
      ]
     },
     "metadata": {},
     "output_type": "display_data"
    },
    {
     "data": {
      "text/plain": [
       "'Отношение группы В к А: 0.174'"
      ]
     },
     "metadata": {},
     "output_type": "display_data"
    }
   ],
   "source": [
    "#Подготовим выборки количества заказов по пользователям по группам теста:\n",
    "\n",
    "sample_a_filtered = pd.concat(\n",
    "    [\n",
    "        orders_by_users_a[\n",
    "            np.logical_not(orders_by_users_a['visitor_id'].isin(abnormal_users))\n",
    "        ]['orders'],\n",
    "        pd.Series(\n",
    "            0,\n",
    "            index=np.arange(\n",
    "                data['visitors_per_date_a'].sum() - len(orders_by_users_a['orders'])\n",
    "            ),\n",
    "            name='orders',\n",
    "        ),\n",
    "    ],\n",
    "    axis=0,\n",
    ")\n",
    "\n",
    "sample_b_filtered = pd.concat(\n",
    "    [\n",
    "        orders_by_users_b[\n",
    "            np.logical_not(orders_by_users_b['visitor_id'].isin(abnormal_users))\n",
    "        ]['orders'],\n",
    "        pd.Series(\n",
    "            0,\n",
    "            index=np.arange(\n",
    "                data['visitors_per_date_b'].sum() - len(orders_by_users_b['orders'])\n",
    "            ),\n",
    "            name='orders',\n",
    "        ),\n",
    "    ],\n",
    "    axis=0,\n",
    ")\n",
    "\n",
    "#Применим статистический критерий Манна-Уитни к полученным выборкам:\n",
    "\n",
    "display('p-value: {0:.3f}'.format(stats.mannwhitneyu(sample_a_filtered, sample_b_filtered)[1]))\n",
    "display('Отношение группы В к А: {0:.3f}'.format(sample_b_filtered.mean()/sample_a_filtered.mean()-1)) "
   ]
  },
  {
   "cell_type": "markdown",
   "metadata": {},
   "source": [
    "**Выводы**\n",
    "\n",
    "- Полученное значение 0,016 меньше уровня значимости P-value,следовательно мы отвергаем гипотезу Н0 о том, что различий в среднем количестве заказов на посетителя между группами по «очищенным» данным нет:\n",
    "\n",
    "**По «очищенным» данным есть статистически значимые различия в среднем числе заказов групп A и B**\n",
    "\n",
    "- Относительный выигрыш группы B равен 17.4%."
   ]
  },
  {
   "cell_type": "markdown",
   "metadata": {},
   "source": [
    "#### Статистическая значимость различий в среднем чеке заказа между группами по «очищенным» данным"
   ]
  },
  {
   "cell_type": "markdown",
   "metadata": {},
   "source": [
    "Сформулируем гипотезы:\n",
    "\n",
    "**Нулевая Н0**: различий в среднем чеке заказа между группами по «очищенным» данным нет \n",
    "\n",
    "**Альтернативная Н1**: различия в среднем чеке заказа между группами по «очищенным» данным есть\n",
    "\n",
    "Уровень значимости P-value = 0,05"
   ]
  },
  {
   "cell_type": "code",
   "execution_count": 34,
   "metadata": {},
   "outputs": [
    {
     "data": {
      "text/plain": [
       "'p-value: 0.727'"
      ]
     },
     "metadata": {},
     "output_type": "display_data"
    },
    {
     "data": {
      "text/plain": [
       "'Отношение группы В к А: -0.034'"
      ]
     },
     "metadata": {},
     "output_type": "display_data"
    }
   ],
   "source": [
    "display(\n",
    "    'p-value: {0:.3f}'.format(\n",
    "        stats.mannwhitneyu(\n",
    "            orders[\n",
    "                np.logical_and(\n",
    "                    orders['group'] == 'A',\n",
    "                    np.logical_not(orders['visitor_id'].isin(abnormal_users)),\n",
    "                )\n",
    "            ]['revenue'],\n",
    "            orders[\n",
    "                np.logical_and(\n",
    "                    orders['group'] == 'B',\n",
    "                    np.logical_not(orders['visitor_id'].isin(abnormal_users)),\n",
    "                )\n",
    "            ]['revenue'],\n",
    "        )[1]\n",
    "    )\n",
    ")\n",
    "\n",
    "display(\n",
    "    'Отношение группы В к А: {0:.3f}'.format(\n",
    "        orders[\n",
    "            np.logical_and(\n",
    "                orders['group'] == 'B',\n",
    "                np.logical_not(orders['visitor_id'].isin(abnormal_users)),\n",
    "            )\n",
    "        ]['revenue'].mean()\n",
    "        / orders[\n",
    "            np.logical_and(\n",
    "                orders['group'] == 'A',\n",
    "                np.logical_not(orders['visitor_id'].isin(abnormal_users)),\n",
    "            )\n",
    "        ]['revenue'].mean()\n",
    "        - 1\n",
    "    )\n",
    ")"
   ]
  },
  {
   "cell_type": "markdown",
   "metadata": {},
   "source": [
    "**Выводы**\n",
    "\n",
    "- Полученное значение 0,727 значительно больше уровня значимости P-value,следовательно нет оснований отвергать гипотезу Н0 о том, что различий в среднем чеке между группами нет.\n",
    "\n",
    "**По «очищенным» данным нет статистически значимых различий в среднем чеке заказа групп A и B**\n",
    "\n",
    "- Относительный проигрыш по среднему чеку группы B равен 3.4% - подтвердились догадки о том, что аномалии (дорогие заказы) в сырых данных искажали картину. Разница слишком мала, чтобы признать ее статистически значимой, ее не стоит принимать во внимание."
   ]
  },
  {
   "cell_type": "markdown",
   "metadata": {},
   "source": [
    "### 5. Решение по результатам теста и общие выводы <a id='decision'></a>"
   ]
  },
  {
   "cell_type": "markdown",
   "metadata": {},
   "source": [
    "\n",
    "- Мы убедились, что имеются статистически значимые различия по среднему числу заказов между группами А и В по сырым и по очищенным данным. Т.е. разница не случайна, действительно имеет место быть преимущество у группы B (увеличение среднего числа заказов на 16-17%)\n",
    "\n",
    "- По среднему чеку статистически значимых различий нет ни по сырым, ни по очищенным данным.\n",
    "\n",
    "- Было видно преимущество группы В на графике кумулятивного среднего чека, но после очистки данных, мы убедились в том, что разница имела место быть из-за аномальных значений (дорогие заказы в период теста), их не стоит принимать во внимание.\n",
    "\n",
    "- **Рекомендуется остановить тест и признать его успешным** - гипотеза подтвердилась и привела к росту числа заказов. Средний чек при этом не изменился.\n",
    "\n",
    "**Технические рекомендации**:\n",
    "\n",
    "- Были обнаружены повторяющиеся id пользователей в разных группах. 58 id, это 5.63% от общего числа. Эти данные были удалены и не принимали участия в дальнейшем анализе, но учитывая найденную ошибку, **рекомендуется** в будущем внимательнее подходить к А/А тестированию и проверять, что:\n",
    "\n",
    "1. Количество пользователей в различных группах различается не более, чем на 1%;\n",
    "2. Для всех групп фиксируют и отправляют в системы аналитики данные об одном и том же;\n",
    "3. Различие ключевых метрик по группам не превышает 1% и не имеет статистической значимости;\n",
    "4. Попавший в одну из групп посетитель остаётся в этой группе до конца теста."
   ]
  }
 ],
 "metadata": {
  "ExecuteTimeLog": [
   {
    "duration": 1215,
    "start_time": "2024-03-21T09:13:21.551Z"
   },
   {
    "duration": 251,
    "start_time": "2024-03-21T09:14:55.724Z"
   },
   {
    "duration": 3,
    "start_time": "2024-03-21T09:47:25.321Z"
   },
   {
    "duration": 35,
    "start_time": "2024-03-21T09:47:41.053Z"
   },
   {
    "duration": 4,
    "start_time": "2024-03-21T09:49:26.348Z"
   },
   {
    "duration": 31,
    "start_time": "2024-03-21T09:49:47.733Z"
   },
   {
    "duration": 4,
    "start_time": "2024-03-21T09:51:27.620Z"
   },
   {
    "duration": 38,
    "start_time": "2024-03-21T09:51:30.005Z"
   },
   {
    "duration": 4,
    "start_time": "2024-03-21T09:51:39.532Z"
   },
   {
    "duration": 30,
    "start_time": "2024-03-21T09:51:41.437Z"
   },
   {
    "duration": 3,
    "start_time": "2024-03-21T09:53:24.293Z"
   },
   {
    "duration": 120,
    "start_time": "2024-03-21T09:53:25.306Z"
   },
   {
    "duration": 75,
    "start_time": "2024-03-21T09:55:16.182Z"
   },
   {
    "duration": 37,
    "start_time": "2024-03-21T09:55:17.117Z"
   },
   {
    "duration": 30,
    "start_time": "2024-03-21T09:55:35.063Z"
   },
   {
    "duration": 40,
    "start_time": "2024-03-21T09:55:57.414Z"
   },
   {
    "duration": 79,
    "start_time": "2024-03-21T09:56:29.598Z"
   },
   {
    "duration": 27,
    "start_time": "2024-03-21T09:56:49.694Z"
   },
   {
    "duration": 73,
    "start_time": "2024-03-21T09:56:58.287Z"
   },
   {
    "duration": 37,
    "start_time": "2024-03-21T09:57:06.942Z"
   },
   {
    "duration": 3,
    "start_time": "2024-03-21T09:57:30.914Z"
   },
   {
    "duration": 3,
    "start_time": "2024-03-21T09:57:53.279Z"
   },
   {
    "duration": 33,
    "start_time": "2024-03-21T09:58:05.038Z"
   },
   {
    "duration": 6,
    "start_time": "2024-03-21T09:58:21.781Z"
   },
   {
    "duration": 48,
    "start_time": "2024-03-21T09:58:22.662Z"
   },
   {
    "duration": 41,
    "start_time": "2024-03-21T10:00:38.919Z"
   },
   {
    "duration": 34,
    "start_time": "2024-03-21T10:00:40.606Z"
   },
   {
    "duration": 29,
    "start_time": "2024-03-21T10:00:41.782Z"
   },
   {
    "duration": 3,
    "start_time": "2024-03-21T10:01:40.568Z"
   },
   {
    "duration": 12,
    "start_time": "2024-03-21T10:07:33.030Z"
   },
   {
    "duration": 11,
    "start_time": "2024-03-21T10:07:51.748Z"
   },
   {
    "duration": 3,
    "start_time": "2024-03-21T10:09:22.151Z"
   },
   {
    "duration": 4,
    "start_time": "2024-03-21T10:09:32.526Z"
   },
   {
    "duration": 4,
    "start_time": "2024-03-21T10:12:12.079Z"
   },
   {
    "duration": 9,
    "start_time": "2024-03-21T10:14:32.895Z"
   },
   {
    "duration": 29,
    "start_time": "2024-03-21T10:20:53.361Z"
   },
   {
    "duration": 285,
    "start_time": "2024-03-21T10:21:46.368Z"
   },
   {
    "duration": 292,
    "start_time": "2024-03-21T10:21:51.961Z"
   },
   {
    "duration": 7,
    "start_time": "2024-03-21T10:23:33.841Z"
   },
   {
    "duration": 10,
    "start_time": "2024-03-21T10:25:28.104Z"
   },
   {
    "duration": 14,
    "start_time": "2024-03-21T10:33:36.762Z"
   },
   {
    "duration": 10,
    "start_time": "2024-03-21T10:33:59.377Z"
   },
   {
    "duration": 12,
    "start_time": "2024-03-21T10:34:36.210Z"
   },
   {
    "duration": 15,
    "start_time": "2024-03-21T11:54:42.739Z"
   },
   {
    "duration": 1029,
    "start_time": "2024-03-21T11:59:12.068Z"
   },
   {
    "duration": 123,
    "start_time": "2024-03-21T11:59:13.099Z"
   },
   {
    "duration": 45,
    "start_time": "2024-03-21T11:59:13.224Z"
   },
   {
    "duration": 37,
    "start_time": "2024-03-21T11:59:13.271Z"
   },
   {
    "duration": 60,
    "start_time": "2024-03-21T11:59:13.311Z"
   },
   {
    "duration": 8,
    "start_time": "2024-03-21T11:59:13.372Z"
   },
   {
    "duration": 5,
    "start_time": "2024-03-21T11:59:13.381Z"
   },
   {
    "duration": 24,
    "start_time": "2024-03-21T11:59:13.388Z"
   },
   {
    "duration": 41,
    "start_time": "2024-03-21T11:59:13.413Z"
   },
   {
    "duration": 10,
    "start_time": "2024-03-21T11:59:13.456Z"
   },
   {
    "duration": 13,
    "start_time": "2024-03-21T11:59:13.467Z"
   },
   {
    "duration": 11,
    "start_time": "2024-03-21T11:59:13.481Z"
   },
   {
    "duration": 5,
    "start_time": "2024-03-21T12:06:53.880Z"
   },
   {
    "duration": 4,
    "start_time": "2024-03-21T12:07:06.432Z"
   },
   {
    "duration": 8,
    "start_time": "2024-03-21T12:41:19.935Z"
   },
   {
    "duration": 4,
    "start_time": "2024-03-21T12:41:30.682Z"
   },
   {
    "duration": 7,
    "start_time": "2024-03-21T12:44:58.498Z"
   },
   {
    "duration": 7,
    "start_time": "2024-03-21T12:49:06.368Z"
   },
   {
    "duration": 5,
    "start_time": "2024-03-21T12:49:25.623Z"
   },
   {
    "duration": 5,
    "start_time": "2024-03-21T12:49:33.344Z"
   },
   {
    "duration": 6,
    "start_time": "2024-03-21T12:50:29.620Z"
   },
   {
    "duration": 66,
    "start_time": "2024-03-21T12:52:14.034Z"
   },
   {
    "duration": 10,
    "start_time": "2024-03-21T12:52:28.936Z"
   },
   {
    "duration": 4,
    "start_time": "2024-03-21T12:55:47.930Z"
   },
   {
    "duration": 6,
    "start_time": "2024-03-21T13:01:25.423Z"
   },
   {
    "duration": 9,
    "start_time": "2024-03-21T13:01:26.172Z"
   },
   {
    "duration": 1117,
    "start_time": "2024-03-21T13:01:59.187Z"
   },
   {
    "duration": 127,
    "start_time": "2024-03-21T13:02:00.307Z"
   },
   {
    "duration": 54,
    "start_time": "2024-03-21T13:02:00.436Z"
   },
   {
    "duration": 60,
    "start_time": "2024-03-21T13:02:00.492Z"
   },
   {
    "duration": 32,
    "start_time": "2024-03-21T13:02:00.554Z"
   },
   {
    "duration": 25,
    "start_time": "2024-03-21T13:02:00.587Z"
   },
   {
    "duration": 43,
    "start_time": "2024-03-21T13:02:00.613Z"
   },
   {
    "duration": 47,
    "start_time": "2024-03-21T13:02:00.657Z"
   },
   {
    "duration": 88,
    "start_time": "2024-03-21T13:02:00.706Z"
   },
   {
    "duration": 53,
    "start_time": "2024-03-21T13:02:00.796Z"
   },
   {
    "duration": 82,
    "start_time": "2024-03-21T13:02:00.851Z"
   },
   {
    "duration": 68,
    "start_time": "2024-03-21T13:02:00.934Z"
   },
   {
    "duration": 142,
    "start_time": "2024-03-21T13:02:01.003Z"
   },
   {
    "duration": 169,
    "start_time": "2024-03-21T13:02:01.147Z"
   },
   {
    "duration": 89,
    "start_time": "2024-03-21T13:02:01.317Z"
   },
   {
    "duration": 107,
    "start_time": "2024-03-21T13:02:01.408Z"
   },
   {
    "duration": 8,
    "start_time": "2024-03-21T13:02:57.885Z"
   },
   {
    "duration": 11,
    "start_time": "2024-03-21T13:04:46.094Z"
   },
   {
    "duration": 14,
    "start_time": "2024-03-21T13:05:39.321Z"
   },
   {
    "duration": 16,
    "start_time": "2024-03-21T13:08:23.275Z"
   },
   {
    "duration": 1021,
    "start_time": "2024-03-21T13:10:45.765Z"
   },
   {
    "duration": 122,
    "start_time": "2024-03-21T13:10:46.788Z"
   },
   {
    "duration": 42,
    "start_time": "2024-03-21T13:10:46.912Z"
   },
   {
    "duration": 33,
    "start_time": "2024-03-21T13:10:46.956Z"
   },
   {
    "duration": 25,
    "start_time": "2024-03-21T13:10:46.991Z"
   },
   {
    "duration": 7,
    "start_time": "2024-03-21T13:10:47.018Z"
   },
   {
    "duration": 5,
    "start_time": "2024-03-21T13:10:47.026Z"
   },
   {
    "duration": 8,
    "start_time": "2024-03-21T13:10:47.065Z"
   },
   {
    "duration": 42,
    "start_time": "2024-03-21T13:10:47.075Z"
   },
   {
    "duration": 10,
    "start_time": "2024-03-21T13:10:47.119Z"
   },
   {
    "duration": 21,
    "start_time": "2024-03-21T13:10:47.131Z"
   },
   {
    "duration": 21,
    "start_time": "2024-03-21T13:10:47.153Z"
   },
   {
    "duration": 12,
    "start_time": "2024-03-21T13:10:47.176Z"
   },
   {
    "duration": 4,
    "start_time": "2024-03-21T13:10:47.191Z"
   },
   {
    "duration": 10,
    "start_time": "2024-03-21T13:10:47.197Z"
   },
   {
    "duration": 7,
    "start_time": "2024-03-21T13:10:47.208Z"
   },
   {
    "duration": 8,
    "start_time": "2024-03-21T13:17:13.371Z"
   },
   {
    "duration": 11,
    "start_time": "2024-03-21T13:28:27.472Z"
   },
   {
    "duration": 7,
    "start_time": "2024-03-21T13:28:37.439Z"
   },
   {
    "duration": 8,
    "start_time": "2024-03-21T13:33:46.927Z"
   },
   {
    "duration": 261,
    "start_time": "2024-03-21T13:34:08.140Z"
   },
   {
    "duration": 250,
    "start_time": "2024-03-21T13:35:16.011Z"
   },
   {
    "duration": 165,
    "start_time": "2024-03-21T13:35:23.792Z"
   },
   {
    "duration": 230,
    "start_time": "2024-03-21T13:37:40.617Z"
   },
   {
    "duration": 76,
    "start_time": "2024-03-21T13:37:51.545Z"
   },
   {
    "duration": 148,
    "start_time": "2024-03-21T13:38:06.480Z"
   },
   {
    "duration": 170,
    "start_time": "2024-03-21T13:38:37.336Z"
   },
   {
    "duration": 176,
    "start_time": "2024-03-21T13:39:45.896Z"
   },
   {
    "duration": 174,
    "start_time": "2024-03-21T13:39:56.678Z"
   },
   {
    "duration": 178,
    "start_time": "2024-03-21T13:40:03.176Z"
   },
   {
    "duration": 168,
    "start_time": "2024-03-21T13:40:20.624Z"
   },
   {
    "duration": 204,
    "start_time": "2024-03-21T13:40:27.814Z"
   },
   {
    "duration": 201,
    "start_time": "2024-03-21T13:40:39.476Z"
   },
   {
    "duration": 156,
    "start_time": "2024-03-21T13:41:54.654Z"
   },
   {
    "duration": 194,
    "start_time": "2024-03-21T13:42:10.734Z"
   },
   {
    "duration": 197,
    "start_time": "2024-03-21T13:43:08.462Z"
   },
   {
    "duration": 178,
    "start_time": "2024-03-21T13:44:10.262Z"
   },
   {
    "duration": 184,
    "start_time": "2024-03-21T13:44:19.516Z"
   },
   {
    "duration": 185,
    "start_time": "2024-03-21T13:44:30.105Z"
   },
   {
    "duration": 355,
    "start_time": "2024-03-21T13:45:18.601Z"
   },
   {
    "duration": 220,
    "start_time": "2024-03-21T13:45:47.968Z"
   },
   {
    "duration": 202,
    "start_time": "2024-03-21T13:46:17.444Z"
   },
   {
    "duration": 214,
    "start_time": "2024-03-21T13:46:29.964Z"
   },
   {
    "duration": 212,
    "start_time": "2024-03-21T13:47:54.421Z"
   },
   {
    "duration": 286,
    "start_time": "2024-03-21T13:57:42.187Z"
   },
   {
    "duration": 172,
    "start_time": "2024-03-21T13:58:14.382Z"
   },
   {
    "duration": 207,
    "start_time": "2024-03-21T13:59:02.623Z"
   },
   {
    "duration": 228,
    "start_time": "2024-03-21T14:01:46.512Z"
   },
   {
    "duration": 294,
    "start_time": "2024-03-21T14:02:15.856Z"
   },
   {
    "duration": 304,
    "start_time": "2024-03-21T14:03:26.032Z"
   },
   {
    "duration": 256,
    "start_time": "2024-03-21T14:04:43.415Z"
   },
   {
    "duration": 172,
    "start_time": "2024-03-21T14:18:42.793Z"
   },
   {
    "duration": 187,
    "start_time": "2024-03-21T14:19:23.929Z"
   },
   {
    "duration": 206,
    "start_time": "2024-03-21T14:20:10.974Z"
   },
   {
    "duration": 332,
    "start_time": "2024-03-21T14:27:52.351Z"
   },
   {
    "duration": 401,
    "start_time": "2024-03-21T14:28:03.654Z"
   },
   {
    "duration": 304,
    "start_time": "2024-03-21T14:29:35.505Z"
   },
   {
    "duration": 338,
    "start_time": "2024-03-21T14:29:47.253Z"
   },
   {
    "duration": 359,
    "start_time": "2024-03-21T14:33:12.847Z"
   },
   {
    "duration": 1205,
    "start_time": "2024-03-22T08:25:27.835Z"
   },
   {
    "duration": 261,
    "start_time": "2024-03-22T08:25:29.042Z"
   },
   {
    "duration": 42,
    "start_time": "2024-03-22T08:25:29.305Z"
   },
   {
    "duration": 49,
    "start_time": "2024-03-22T08:25:29.349Z"
   },
   {
    "duration": 27,
    "start_time": "2024-03-22T08:25:29.399Z"
   },
   {
    "duration": 7,
    "start_time": "2024-03-22T08:25:29.427Z"
   },
   {
    "duration": 14,
    "start_time": "2024-03-22T08:25:29.436Z"
   },
   {
    "duration": 36,
    "start_time": "2024-03-22T08:25:29.452Z"
   },
   {
    "duration": 30,
    "start_time": "2024-03-22T08:25:29.489Z"
   },
   {
    "duration": 8,
    "start_time": "2024-03-22T08:25:29.521Z"
   },
   {
    "duration": 21,
    "start_time": "2024-03-22T08:25:29.531Z"
   },
   {
    "duration": 12,
    "start_time": "2024-03-22T08:25:29.554Z"
   },
   {
    "duration": 5,
    "start_time": "2024-03-22T08:25:29.588Z"
   },
   {
    "duration": 16,
    "start_time": "2024-03-22T08:25:29.594Z"
   },
   {
    "duration": 8,
    "start_time": "2024-03-22T08:25:29.612Z"
   },
   {
    "duration": 14,
    "start_time": "2024-03-22T08:25:29.621Z"
   },
   {
    "duration": 291,
    "start_time": "2024-03-22T08:25:29.637Z"
   },
   {
    "duration": 319,
    "start_time": "2024-03-22T08:25:29.930Z"
   },
   {
    "duration": 234,
    "start_time": "2024-03-22T08:25:30.251Z"
   },
   {
    "duration": 365,
    "start_time": "2024-03-22T08:25:30.487Z"
   },
   {
    "duration": 241,
    "start_time": "2024-03-22T08:25:30.854Z"
   },
   {
    "duration": 327,
    "start_time": "2024-03-22T08:25:31.097Z"
   },
   {
    "duration": 7,
    "start_time": "2024-03-22T08:25:31.426Z"
   },
   {
    "duration": 50,
    "start_time": "2024-03-22T08:25:31.435Z"
   },
   {
    "duration": 102,
    "start_time": "2024-03-22T08:36:17.024Z"
   },
   {
    "duration": 127,
    "start_time": "2024-03-22T08:36:41.076Z"
   },
   {
    "duration": 232,
    "start_time": "2024-03-22T08:39:19.508Z"
   },
   {
    "duration": 171,
    "start_time": "2024-03-22T08:40:27.453Z"
   },
   {
    "duration": 203,
    "start_time": "2024-03-22T08:40:35.228Z"
   },
   {
    "duration": 264,
    "start_time": "2024-03-22T08:40:41.108Z"
   },
   {
    "duration": 182,
    "start_time": "2024-03-22T08:41:13.004Z"
   },
   {
    "duration": 170,
    "start_time": "2024-03-22T08:41:17.700Z"
   },
   {
    "duration": 5,
    "start_time": "2024-03-22T08:43:04.747Z"
   },
   {
    "duration": 4,
    "start_time": "2024-03-22T08:43:10.368Z"
   },
   {
    "duration": 9,
    "start_time": "2024-03-22T08:44:35.227Z"
   },
   {
    "duration": 11,
    "start_time": "2024-03-22T08:45:16.779Z"
   },
   {
    "duration": 12,
    "start_time": "2024-03-22T08:45:39.796Z"
   },
   {
    "duration": 106,
    "start_time": "2024-03-22T08:45:58.502Z"
   },
   {
    "duration": 7,
    "start_time": "2024-03-22T08:46:05.616Z"
   },
   {
    "duration": 6,
    "start_time": "2024-03-22T08:46:36.444Z"
   },
   {
    "duration": 6,
    "start_time": "2024-03-22T08:47:04.656Z"
   },
   {
    "duration": 6,
    "start_time": "2024-03-22T08:47:24.926Z"
   },
   {
    "duration": 6,
    "start_time": "2024-03-22T08:47:41.621Z"
   },
   {
    "duration": 5,
    "start_time": "2024-03-22T08:50:48.060Z"
   },
   {
    "duration": 169,
    "start_time": "2024-03-22T08:52:41.350Z"
   },
   {
    "duration": 130,
    "start_time": "2024-03-22T08:54:38.436Z"
   },
   {
    "duration": 140,
    "start_time": "2024-03-22T08:54:54.956Z"
   },
   {
    "duration": 14,
    "start_time": "2024-03-22T08:55:31.152Z"
   },
   {
    "duration": 12,
    "start_time": "2024-03-22T08:55:52.720Z"
   },
   {
    "duration": 12,
    "start_time": "2024-03-22T08:58:49.288Z"
   },
   {
    "duration": 140,
    "start_time": "2024-03-22T09:22:38.327Z"
   },
   {
    "duration": 11,
    "start_time": "2024-03-22T09:22:49.900Z"
   },
   {
    "duration": 105,
    "start_time": "2024-03-22T09:25:20.628Z"
   },
   {
    "duration": 10,
    "start_time": "2024-03-22T09:25:24.954Z"
   },
   {
    "duration": 11,
    "start_time": "2024-03-22T09:35:50.557Z"
   },
   {
    "duration": 138,
    "start_time": "2024-03-22T09:37:02.733Z"
   },
   {
    "duration": 130,
    "start_time": "2024-03-22T09:37:13.168Z"
   },
   {
    "duration": 133,
    "start_time": "2024-03-22T09:37:40.912Z"
   },
   {
    "duration": 167,
    "start_time": "2024-03-22T09:38:32.372Z"
   },
   {
    "duration": 11,
    "start_time": "2024-03-22T09:41:08.700Z"
   },
   {
    "duration": 10,
    "start_time": "2024-03-22T09:42:18.148Z"
   },
   {
    "duration": 9,
    "start_time": "2024-03-22T09:45:56.812Z"
   },
   {
    "duration": 139,
    "start_time": "2024-03-22T10:01:21.495Z"
   },
   {
    "duration": 11,
    "start_time": "2024-03-22T10:16:51.266Z"
   },
   {
    "duration": 7,
    "start_time": "2024-03-22T10:17:03.145Z"
   },
   {
    "duration": 8,
    "start_time": "2024-03-22T10:36:56.874Z"
   },
   {
    "duration": 219,
    "start_time": "2024-03-22T10:41:54.172Z"
   },
   {
    "duration": 230,
    "start_time": "2024-03-22T10:43:15.024Z"
   },
   {
    "duration": 134,
    "start_time": "2024-03-22T11:50:41.913Z"
   },
   {
    "duration": 3,
    "start_time": "2024-03-22T11:51:40.111Z"
   },
   {
    "duration": 150,
    "start_time": "2024-03-22T11:51:48.725Z"
   },
   {
    "duration": 12,
    "start_time": "2024-03-22T12:14:37.272Z"
   },
   {
    "duration": 12,
    "start_time": "2024-03-22T12:30:55.563Z"
   },
   {
    "duration": 11,
    "start_time": "2024-03-22T12:31:22.274Z"
   },
   {
    "duration": 10,
    "start_time": "2024-03-22T12:38:03.443Z"
   },
   {
    "duration": 35,
    "start_time": "2024-03-22T12:39:27.343Z"
   },
   {
    "duration": 20,
    "start_time": "2024-03-22T12:48:33.900Z"
   },
   {
    "duration": 1090,
    "start_time": "2024-03-22T12:53:36.767Z"
   },
   {
    "duration": 124,
    "start_time": "2024-03-22T12:53:37.860Z"
   },
   {
    "duration": 43,
    "start_time": "2024-03-22T12:53:37.986Z"
   },
   {
    "duration": 57,
    "start_time": "2024-03-22T12:53:38.031Z"
   },
   {
    "duration": 29,
    "start_time": "2024-03-22T12:53:38.091Z"
   },
   {
    "duration": 8,
    "start_time": "2024-03-22T12:53:38.121Z"
   },
   {
    "duration": 4,
    "start_time": "2024-03-22T12:53:38.131Z"
   },
   {
    "duration": 33,
    "start_time": "2024-03-22T12:53:38.136Z"
   },
   {
    "duration": 42,
    "start_time": "2024-03-22T12:53:38.171Z"
   },
   {
    "duration": 10,
    "start_time": "2024-03-22T12:53:38.215Z"
   },
   {
    "duration": 12,
    "start_time": "2024-03-22T12:53:38.227Z"
   },
   {
    "duration": 12,
    "start_time": "2024-03-22T12:53:38.241Z"
   },
   {
    "duration": 36,
    "start_time": "2024-03-22T12:53:38.254Z"
   },
   {
    "duration": 13,
    "start_time": "2024-03-22T12:53:38.293Z"
   },
   {
    "duration": 4,
    "start_time": "2024-03-22T12:53:38.308Z"
   },
   {
    "duration": 18,
    "start_time": "2024-03-22T12:53:38.314Z"
   },
   {
    "duration": 306,
    "start_time": "2024-03-22T12:53:38.333Z"
   },
   {
    "duration": 302,
    "start_time": "2024-03-22T12:53:38.641Z"
   },
   {
    "duration": 222,
    "start_time": "2024-03-22T12:53:38.945Z"
   },
   {
    "duration": 350,
    "start_time": "2024-03-22T12:53:39.169Z"
   },
   {
    "duration": 267,
    "start_time": "2024-03-22T12:53:39.521Z"
   },
   {
    "duration": 326,
    "start_time": "2024-03-22T12:53:39.790Z"
   },
   {
    "duration": 12,
    "start_time": "2024-03-22T12:53:40.118Z"
   },
   {
    "duration": 190,
    "start_time": "2024-03-22T12:53:40.132Z"
   },
   {
    "duration": 8,
    "start_time": "2024-03-22T12:53:40.323Z"
   },
   {
    "duration": 33,
    "start_time": "2024-03-22T12:53:40.332Z"
   },
   {
    "duration": 183,
    "start_time": "2024-03-22T12:53:40.367Z"
   },
   {
    "duration": 12,
    "start_time": "2024-03-22T12:53:40.551Z"
   },
   {
    "duration": 256,
    "start_time": "2024-03-22T12:53:40.564Z"
   },
   {
    "duration": 194,
    "start_time": "2024-03-22T12:53:40.821Z"
   },
   {
    "duration": 11,
    "start_time": "2024-03-22T12:53:41.016Z"
   },
   {
    "duration": 32,
    "start_time": "2024-03-22T12:53:41.028Z"
   },
   {
    "duration": 47,
    "start_time": "2024-03-22T12:53:41.062Z"
   },
   {
    "duration": 15,
    "start_time": "2024-03-22T12:53:41.110Z"
   },
   {
    "duration": 1113,
    "start_time": "2024-03-22T13:23:42.354Z"
   },
   {
    "duration": 122,
    "start_time": "2024-03-22T13:23:43.469Z"
   },
   {
    "duration": 44,
    "start_time": "2024-03-22T13:23:43.592Z"
   },
   {
    "duration": 70,
    "start_time": "2024-03-22T13:23:43.638Z"
   },
   {
    "duration": 27,
    "start_time": "2024-03-22T13:23:43.710Z"
   },
   {
    "duration": 8,
    "start_time": "2024-03-22T13:23:43.738Z"
   },
   {
    "duration": 22,
    "start_time": "2024-03-22T13:23:43.747Z"
   },
   {
    "duration": 8,
    "start_time": "2024-03-22T13:23:43.787Z"
   },
   {
    "duration": 41,
    "start_time": "2024-03-22T13:23:43.797Z"
   },
   {
    "duration": 20,
    "start_time": "2024-03-22T13:23:43.839Z"
   },
   {
    "duration": 27,
    "start_time": "2024-03-22T13:23:43.861Z"
   },
   {
    "duration": 14,
    "start_time": "2024-03-22T13:23:43.889Z"
   },
   {
    "duration": 24,
    "start_time": "2024-03-22T13:23:43.905Z"
   },
   {
    "duration": 11,
    "start_time": "2024-03-22T13:23:43.933Z"
   },
   {
    "duration": 15,
    "start_time": "2024-03-22T13:23:43.946Z"
   },
   {
    "duration": 13,
    "start_time": "2024-03-22T13:23:43.963Z"
   },
   {
    "duration": 319,
    "start_time": "2024-03-22T13:23:43.977Z"
   },
   {
    "duration": 355,
    "start_time": "2024-03-22T13:23:44.297Z"
   },
   {
    "duration": 230,
    "start_time": "2024-03-22T13:23:44.654Z"
   },
   {
    "duration": 327,
    "start_time": "2024-03-22T13:23:44.887Z"
   },
   {
    "duration": 255,
    "start_time": "2024-03-22T13:23:45.216Z"
   },
   {
    "duration": 359,
    "start_time": "2024-03-22T13:23:45.473Z"
   },
   {
    "duration": 11,
    "start_time": "2024-03-22T13:23:45.833Z"
   },
   {
    "duration": 187,
    "start_time": "2024-03-22T13:23:45.845Z"
   },
   {
    "duration": 8,
    "start_time": "2024-03-22T13:23:46.033Z"
   },
   {
    "duration": 12,
    "start_time": "2024-03-22T13:23:46.042Z"
   },
   {
    "duration": 185,
    "start_time": "2024-03-22T13:23:46.056Z"
   },
   {
    "duration": 11,
    "start_time": "2024-03-22T13:23:46.242Z"
   },
   {
    "duration": 263,
    "start_time": "2024-03-22T13:23:46.254Z"
   },
   {
    "duration": 170,
    "start_time": "2024-03-22T13:23:46.518Z"
   },
   {
    "duration": 11,
    "start_time": "2024-03-22T13:23:46.689Z"
   },
   {
    "duration": 11,
    "start_time": "2024-03-22T13:23:46.702Z"
   },
   {
    "duration": 40,
    "start_time": "2024-03-22T13:23:46.714Z"
   },
   {
    "duration": 37,
    "start_time": "2024-03-22T13:23:46.755Z"
   },
   {
    "duration": 1082,
    "start_time": "2024-03-22T13:48:39.948Z"
   },
   {
    "duration": 126,
    "start_time": "2024-03-22T13:48:41.032Z"
   },
   {
    "duration": 45,
    "start_time": "2024-03-22T13:48:41.160Z"
   },
   {
    "duration": 39,
    "start_time": "2024-03-22T13:48:41.207Z"
   },
   {
    "duration": 59,
    "start_time": "2024-03-22T13:48:41.248Z"
   },
   {
    "duration": 8,
    "start_time": "2024-03-22T13:48:41.308Z"
   },
   {
    "duration": 5,
    "start_time": "2024-03-22T13:48:41.318Z"
   },
   {
    "duration": 16,
    "start_time": "2024-03-22T13:48:41.325Z"
   },
   {
    "duration": 65,
    "start_time": "2024-03-22T13:48:41.342Z"
   },
   {
    "duration": 9,
    "start_time": "2024-03-22T13:48:41.409Z"
   },
   {
    "duration": 18,
    "start_time": "2024-03-22T13:48:41.420Z"
   },
   {
    "duration": 42,
    "start_time": "2024-03-22T13:48:41.440Z"
   },
   {
    "duration": 6,
    "start_time": "2024-03-22T13:48:41.484Z"
   },
   {
    "duration": 7,
    "start_time": "2024-03-22T13:48:41.494Z"
   },
   {
    "duration": 5,
    "start_time": "2024-03-22T13:48:41.503Z"
   },
   {
    "duration": 13,
    "start_time": "2024-03-22T13:48:41.509Z"
   },
   {
    "duration": 312,
    "start_time": "2024-03-22T13:48:41.524Z"
   },
   {
    "duration": 320,
    "start_time": "2024-03-22T13:48:41.837Z"
   },
   {
    "duration": 228,
    "start_time": "2024-03-22T13:48:42.158Z"
   },
   {
    "duration": 326,
    "start_time": "2024-03-22T13:48:42.387Z"
   },
   {
    "duration": 242,
    "start_time": "2024-03-22T13:48:42.715Z"
   },
   {
    "duration": 340,
    "start_time": "2024-03-22T13:48:42.959Z"
   },
   {
    "duration": 11,
    "start_time": "2024-03-22T13:48:43.301Z"
   },
   {
    "duration": 180,
    "start_time": "2024-03-22T13:48:43.313Z"
   },
   {
    "duration": 7,
    "start_time": "2024-03-22T13:48:43.495Z"
   },
   {
    "duration": 9,
    "start_time": "2024-03-22T13:48:43.504Z"
   },
   {
    "duration": 186,
    "start_time": "2024-03-22T13:48:43.515Z"
   },
   {
    "duration": 11,
    "start_time": "2024-03-22T13:48:43.703Z"
   },
   {
    "duration": 237,
    "start_time": "2024-03-22T13:48:43.715Z"
   },
   {
    "duration": 178,
    "start_time": "2024-03-22T13:48:43.954Z"
   },
   {
    "duration": 12,
    "start_time": "2024-03-22T13:48:44.133Z"
   },
   {
    "duration": 11,
    "start_time": "2024-03-22T13:48:44.147Z"
   },
   {
    "duration": 52,
    "start_time": "2024-03-22T13:48:44.159Z"
   },
   {
    "duration": 15,
    "start_time": "2024-03-22T13:48:44.213Z"
   },
   {
    "duration": 151,
    "start_time": "2024-03-22T14:39:58.547Z"
   },
   {
    "duration": 169,
    "start_time": "2024-03-22T14:40:20.006Z"
   },
   {
    "duration": 160,
    "start_time": "2024-03-22T14:41:16.807Z"
   },
   {
    "duration": 149,
    "start_time": "2024-03-22T14:41:25.622Z"
   },
   {
    "duration": 103,
    "start_time": "2024-03-22T14:42:09.385Z"
   },
   {
    "duration": 12,
    "start_time": "2024-03-22T14:42:18.932Z"
   },
   {
    "duration": 33,
    "start_time": "2024-03-22T14:42:49.792Z"
   },
   {
    "duration": 17,
    "start_time": "2024-03-22T14:43:24.227Z"
   },
   {
    "duration": 1106,
    "start_time": "2024-03-22T14:47:23.055Z"
   },
   {
    "duration": 124,
    "start_time": "2024-03-22T14:47:24.163Z"
   },
   {
    "duration": 43,
    "start_time": "2024-03-22T14:47:24.290Z"
   },
   {
    "duration": 73,
    "start_time": "2024-03-22T14:47:24.335Z"
   },
   {
    "duration": 31,
    "start_time": "2024-03-22T14:47:24.409Z"
   },
   {
    "duration": 8,
    "start_time": "2024-03-22T14:47:24.442Z"
   },
   {
    "duration": 48,
    "start_time": "2024-03-22T14:47:24.452Z"
   },
   {
    "duration": 16,
    "start_time": "2024-03-22T14:47:24.502Z"
   },
   {
    "duration": 37,
    "start_time": "2024-03-22T14:47:24.520Z"
   },
   {
    "duration": 12,
    "start_time": "2024-03-22T14:47:24.559Z"
   },
   {
    "duration": 25,
    "start_time": "2024-03-22T14:47:24.572Z"
   },
   {
    "duration": 16,
    "start_time": "2024-03-22T14:47:24.598Z"
   },
   {
    "duration": 22,
    "start_time": "2024-03-22T14:47:24.617Z"
   },
   {
    "duration": 27,
    "start_time": "2024-03-22T14:47:24.640Z"
   },
   {
    "duration": 4,
    "start_time": "2024-03-22T14:47:24.669Z"
   },
   {
    "duration": 23,
    "start_time": "2024-03-22T14:47:24.675Z"
   },
   {
    "duration": 297,
    "start_time": "2024-03-22T14:47:24.700Z"
   },
   {
    "duration": 339,
    "start_time": "2024-03-22T14:47:24.999Z"
   },
   {
    "duration": 233,
    "start_time": "2024-03-22T14:47:25.341Z"
   },
   {
    "duration": 327,
    "start_time": "2024-03-22T14:47:25.575Z"
   },
   {
    "duration": 237,
    "start_time": "2024-03-22T14:47:25.904Z"
   },
   {
    "duration": 315,
    "start_time": "2024-03-22T14:47:26.142Z"
   },
   {
    "duration": 11,
    "start_time": "2024-03-22T14:47:26.459Z"
   },
   {
    "duration": 197,
    "start_time": "2024-03-22T14:47:26.472Z"
   },
   {
    "duration": 18,
    "start_time": "2024-03-22T14:47:26.671Z"
   },
   {
    "duration": 10,
    "start_time": "2024-03-22T14:47:26.690Z"
   },
   {
    "duration": 178,
    "start_time": "2024-03-22T14:47:26.701Z"
   },
   {
    "duration": 14,
    "start_time": "2024-03-22T14:47:26.880Z"
   },
   {
    "duration": 243,
    "start_time": "2024-03-22T14:47:26.895Z"
   },
   {
    "duration": 157,
    "start_time": "2024-03-22T14:47:27.140Z"
   },
   {
    "duration": 11,
    "start_time": "2024-03-22T14:47:27.299Z"
   },
   {
    "duration": 32,
    "start_time": "2024-03-22T14:47:27.311Z"
   },
   {
    "duration": 31,
    "start_time": "2024-03-22T14:47:27.344Z"
   },
   {
    "duration": 15,
    "start_time": "2024-03-22T14:47:27.387Z"
   },
   {
    "duration": 1420,
    "start_time": "2024-03-23T11:33:29.249Z"
   },
   {
    "duration": 291,
    "start_time": "2024-03-23T11:33:30.672Z"
   },
   {
    "duration": 49,
    "start_time": "2024-03-23T11:33:30.964Z"
   },
   {
    "duration": 60,
    "start_time": "2024-03-23T11:33:31.018Z"
   },
   {
    "duration": 58,
    "start_time": "2024-03-23T11:33:31.080Z"
   },
   {
    "duration": 13,
    "start_time": "2024-03-23T11:33:31.139Z"
   },
   {
    "duration": 67,
    "start_time": "2024-03-23T11:33:31.154Z"
   },
   {
    "duration": 137,
    "start_time": "2024-03-23T11:33:31.223Z"
   },
   {
    "duration": 70,
    "start_time": "2024-03-23T11:33:31.363Z"
   },
   {
    "duration": 12,
    "start_time": "2024-03-23T11:33:31.440Z"
   },
   {
    "duration": 62,
    "start_time": "2024-03-23T11:33:31.454Z"
   },
   {
    "duration": 54,
    "start_time": "2024-03-23T11:33:31.518Z"
   },
   {
    "duration": 54,
    "start_time": "2024-03-23T11:33:31.574Z"
   },
   {
    "duration": 29,
    "start_time": "2024-03-23T11:33:31.632Z"
   },
   {
    "duration": 27,
    "start_time": "2024-03-23T11:33:31.663Z"
   },
   {
    "duration": 41,
    "start_time": "2024-03-23T11:33:31.692Z"
   },
   {
    "duration": 367,
    "start_time": "2024-03-23T11:33:31.735Z"
   },
   {
    "duration": 387,
    "start_time": "2024-03-23T11:33:32.104Z"
   },
   {
    "duration": 292,
    "start_time": "2024-03-23T11:33:32.493Z"
   },
   {
    "duration": 414,
    "start_time": "2024-03-23T11:33:32.787Z"
   },
   {
    "duration": 280,
    "start_time": "2024-03-23T11:33:33.203Z"
   },
   {
    "duration": 387,
    "start_time": "2024-03-23T11:33:33.485Z"
   },
   {
    "duration": 12,
    "start_time": "2024-03-23T11:33:33.874Z"
   },
   {
    "duration": 237,
    "start_time": "2024-03-23T11:33:33.888Z"
   },
   {
    "duration": 14,
    "start_time": "2024-03-23T11:33:34.131Z"
   },
   {
    "duration": 11,
    "start_time": "2024-03-23T11:33:34.147Z"
   },
   {
    "duration": 208,
    "start_time": "2024-03-23T11:33:34.159Z"
   },
   {
    "duration": 17,
    "start_time": "2024-03-23T11:33:34.372Z"
   },
   {
    "duration": 285,
    "start_time": "2024-03-23T11:33:34.391Z"
   },
   {
    "duration": 214,
    "start_time": "2024-03-23T11:33:34.678Z"
   },
   {
    "duration": 36,
    "start_time": "2024-03-23T11:33:34.894Z"
   },
   {
    "duration": 19,
    "start_time": "2024-03-23T11:33:34.937Z"
   },
   {
    "duration": 34,
    "start_time": "2024-03-23T11:33:34.957Z"
   },
   {
    "duration": 48,
    "start_time": "2024-03-23T11:33:34.993Z"
   }
  ],
  "kernelspec": {
   "display_name": "Python 3 (ipykernel)",
   "language": "python",
   "name": "python3"
  },
  "language_info": {
   "codemirror_mode": {
    "name": "ipython",
    "version": 3
   },
   "file_extension": ".py",
   "mimetype": "text/x-python",
   "name": "python",
   "nbconvert_exporter": "python",
   "pygments_lexer": "ipython3",
   "version": "3.11.7"
  },
  "toc": {
   "base_numbering": 1,
   "nav_menu": {},
   "number_sections": true,
   "sideBar": true,
   "skip_h1_title": true,
   "title_cell": "Table of Contents",
   "title_sidebar": "Contents",
   "toc_cell": false,
   "toc_position": {
    "height": "calc(100% - 180px)",
    "left": "10px",
    "top": "150px",
    "width": "310px"
   },
   "toc_section_display": true,
   "toc_window_display": true
  }
 },
 "nbformat": 4,
 "nbformat_minor": 4
}
